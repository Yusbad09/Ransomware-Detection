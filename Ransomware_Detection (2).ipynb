{
 "cells": [
  {
   "cell_type": "markdown",
   "id": "e9711c43",
   "metadata": {},
   "source": [
    "## Import Required Python Libraries"
   ]
  },
  {
   "cell_type": "code",
   "execution_count": 1,
   "id": "634fa1c8",
   "metadata": {},
   "outputs": [],
   "source": [
    "import numpy as np\n",
    "import pandas as pd\n",
    "import matplotlib.pyplot as plt\n",
    "from sklearn import metrics\n",
    "from sklearn.model_selection import train_test_split\n",
    "from sklearn.model_selection import cross_validate\n",
    "from sklearn.svm import SVC\n",
    "from sklearn.linear_model import SGDClassifier\n",
    "from sklearn.ensemble import AdaBoostClassifier\n",
    "from sklearn.neighbors import KNeighborsClassifier\n",
    "from sklearn.ensemble import AdaBoostRegressor\n",
    "from sklearn.tree import DecisionTreeClassifier\n",
    "from sklearn.linear_model import LogisticRegression\n",
    "from sklearn.naive_bayes import GaussianNB\n",
    "from sklearn.ensemble import RandomForestClassifier\n",
    "from sklearn.metrics import classification_report\n",
    "from sklearn.metrics import confusion_matrix\n",
    "from sklearn.metrics import roc_curve, roc_auc_score"
   ]
  },
  {
   "cell_type": "markdown",
   "id": "700d429d",
   "metadata": {},
   "source": [
    "## PART I: Initial Data Analysis And Preprocessing\n",
    "\n",
    "### Overview\n",
    "\n",
    "This is the IDA and Preprocessing component of this solution. The workflow for this notebook is outlined as follows:\n",
    "- Getting the data\n",
    "- First insights: Making sense of the data"
   ]
  },
  {
   "cell_type": "markdown",
   "id": "e7392b0a",
   "metadata": {},
   "source": [
    "## 1. Import the data"
   ]
  },
  {
   "cell_type": "code",
   "execution_count": 2,
   "id": "ef894a64",
   "metadata": {},
   "outputs": [
    {
     "data": {
      "text/html": [
       "<div>\n",
       "<style scoped>\n",
       "    .dataframe tbody tr th:only-of-type {\n",
       "        vertical-align: middle;\n",
       "    }\n",
       "\n",
       "    .dataframe tbody tr th {\n",
       "        vertical-align: top;\n",
       "    }\n",
       "\n",
       "    .dataframe thead th {\n",
       "        text-align: right;\n",
       "    }\n",
       "</style>\n",
       "<table border=\"1\" class=\"dataframe\">\n",
       "  <thead>\n",
       "    <tr style=\"text-align: right;\">\n",
       "      <th></th>\n",
       "      <th>FileName</th>\n",
       "      <th>md5Hash</th>\n",
       "      <th>Machine</th>\n",
       "      <th>DebugSize</th>\n",
       "      <th>DebugRVA</th>\n",
       "      <th>MajorImageVersion</th>\n",
       "      <th>MajorOSVersion</th>\n",
       "      <th>ExportRVA</th>\n",
       "      <th>ExportSize</th>\n",
       "      <th>IatVRA</th>\n",
       "      <th>MajorLinkerVersion</th>\n",
       "      <th>MinorLinkerVersion</th>\n",
       "      <th>NumberOfSections</th>\n",
       "      <th>SizeOfStackReserve</th>\n",
       "      <th>DllCharacteristics</th>\n",
       "      <th>ResourceSize</th>\n",
       "      <th>BitcoinAddresses</th>\n",
       "      <th>Benign</th>\n",
       "    </tr>\n",
       "  </thead>\n",
       "  <tbody>\n",
       "    <tr>\n",
       "      <th>0</th>\n",
       "      <td>0124e21d-018c-4ce0-92a3-b9e205a76bc0.dll</td>\n",
       "      <td>79755c51e413ed3c6be4635fd729a6e1</td>\n",
       "      <td>332</td>\n",
       "      <td>0</td>\n",
       "      <td>0</td>\n",
       "      <td>0</td>\n",
       "      <td>4</td>\n",
       "      <td>0</td>\n",
       "      <td>0</td>\n",
       "      <td>8192</td>\n",
       "      <td>8</td>\n",
       "      <td>0</td>\n",
       "      <td>3</td>\n",
       "      <td>1048576</td>\n",
       "      <td>34112</td>\n",
       "      <td>672</td>\n",
       "      <td>0</td>\n",
       "      <td>1</td>\n",
       "    </tr>\n",
       "    <tr>\n",
       "      <th>1</th>\n",
       "      <td>05c8318f98a5d301d80000009c316005.vertdll.dll</td>\n",
       "      <td>95e19f3657d34a432eada93221b0ea16</td>\n",
       "      <td>34404</td>\n",
       "      <td>84</td>\n",
       "      <td>121728</td>\n",
       "      <td>10</td>\n",
       "      <td>10</td>\n",
       "      <td>126576</td>\n",
       "      <td>4930</td>\n",
       "      <td>0</td>\n",
       "      <td>14</td>\n",
       "      <td>10</td>\n",
       "      <td>8</td>\n",
       "      <td>262144</td>\n",
       "      <td>16864</td>\n",
       "      <td>1024</td>\n",
       "      <td>0</td>\n",
       "      <td>1</td>\n",
       "    </tr>\n",
       "    <tr>\n",
       "      <th>2</th>\n",
       "      <td>06054fba-5619-4a86-a861-ffb0464bef5d.dll</td>\n",
       "      <td>85c32641d77a54e19ba8ea4ab305c791</td>\n",
       "      <td>332</td>\n",
       "      <td>0</td>\n",
       "      <td>0</td>\n",
       "      <td>0</td>\n",
       "      <td>4</td>\n",
       "      <td>0</td>\n",
       "      <td>0</td>\n",
       "      <td>8192</td>\n",
       "      <td>8</td>\n",
       "      <td>0</td>\n",
       "      <td>3</td>\n",
       "      <td>1048576</td>\n",
       "      <td>34112</td>\n",
       "      <td>672</td>\n",
       "      <td>0</td>\n",
       "      <td>1</td>\n",
       "    </tr>\n",
       "    <tr>\n",
       "      <th>3</th>\n",
       "      <td>075822ac99a5d301660400009c316005.adhapi.dll</td>\n",
       "      <td>62e3b959d982ef534b66f819fe15f085</td>\n",
       "      <td>34404</td>\n",
       "      <td>84</td>\n",
       "      <td>19904</td>\n",
       "      <td>10</td>\n",
       "      <td>10</td>\n",
       "      <td>21312</td>\n",
       "      <td>252</td>\n",
       "      <td>18160</td>\n",
       "      <td>14</td>\n",
       "      <td>10</td>\n",
       "      <td>6</td>\n",
       "      <td>262144</td>\n",
       "      <td>16736</td>\n",
       "      <td>1040</td>\n",
       "      <td>0</td>\n",
       "      <td>1</td>\n",
       "    </tr>\n",
       "    <tr>\n",
       "      <th>4</th>\n",
       "      <td>090607dd9ba5d301ca0900009c316005.SensorsNative...</td>\n",
       "      <td>ae38c5f7d313ad0ff3bfb8826476767f</td>\n",
       "      <td>34404</td>\n",
       "      <td>84</td>\n",
       "      <td>97728</td>\n",
       "      <td>10</td>\n",
       "      <td>10</td>\n",
       "      <td>105792</td>\n",
       "      <td>1852</td>\n",
       "      <td>70592</td>\n",
       "      <td>14</td>\n",
       "      <td>10</td>\n",
       "      <td>7</td>\n",
       "      <td>262144</td>\n",
       "      <td>16736</td>\n",
       "      <td>1096</td>\n",
       "      <td>0</td>\n",
       "      <td>1</td>\n",
       "    </tr>\n",
       "  </tbody>\n",
       "</table>\n",
       "</div>"
      ],
      "text/plain": [
       "                                            FileName  \\\n",
       "0           0124e21d-018c-4ce0-92a3-b9e205a76bc0.dll   \n",
       "1       05c8318f98a5d301d80000009c316005.vertdll.dll   \n",
       "2           06054fba-5619-4a86-a861-ffb0464bef5d.dll   \n",
       "3        075822ac99a5d301660400009c316005.adhapi.dll   \n",
       "4  090607dd9ba5d301ca0900009c316005.SensorsNative...   \n",
       "\n",
       "                            md5Hash  Machine  DebugSize  DebugRVA  \\\n",
       "0  79755c51e413ed3c6be4635fd729a6e1      332          0         0   \n",
       "1  95e19f3657d34a432eada93221b0ea16    34404         84    121728   \n",
       "2  85c32641d77a54e19ba8ea4ab305c791      332          0         0   \n",
       "3  62e3b959d982ef534b66f819fe15f085    34404         84     19904   \n",
       "4  ae38c5f7d313ad0ff3bfb8826476767f    34404         84     97728   \n",
       "\n",
       "   MajorImageVersion  MajorOSVersion  ExportRVA  ExportSize  IatVRA  \\\n",
       "0                  0               4          0           0    8192   \n",
       "1                 10              10     126576        4930       0   \n",
       "2                  0               4          0           0    8192   \n",
       "3                 10              10      21312         252   18160   \n",
       "4                 10              10     105792        1852   70592   \n",
       "\n",
       "   MajorLinkerVersion  MinorLinkerVersion  NumberOfSections  \\\n",
       "0                   8                   0                 3   \n",
       "1                  14                  10                 8   \n",
       "2                   8                   0                 3   \n",
       "3                  14                  10                 6   \n",
       "4                  14                  10                 7   \n",
       "\n",
       "   SizeOfStackReserve  DllCharacteristics  ResourceSize  BitcoinAddresses  \\\n",
       "0             1048576               34112           672                 0   \n",
       "1              262144               16864          1024                 0   \n",
       "2             1048576               34112           672                 0   \n",
       "3              262144               16736          1040                 0   \n",
       "4              262144               16736          1096                 0   \n",
       "\n",
       "   Benign  \n",
       "0       1  \n",
       "1       1  \n",
       "2       1  \n",
       "3       1  \n",
       "4       1  "
      ]
     },
     "execution_count": 2,
     "metadata": {},
     "output_type": "execute_result"
    }
   ],
   "source": [
    "data = pd.read_csv(\"data_file.csv\")\n",
    "data.head()"
   ]
  },
  {
   "cell_type": "markdown",
   "id": "a7c968fe",
   "metadata": {},
   "source": [
    "## 2. Data Inspection"
   ]
  },
  {
   "cell_type": "code",
   "execution_count": 3,
   "id": "925c11a6",
   "metadata": {},
   "outputs": [
    {
     "name": "stdout",
     "output_type": "stream",
     "text": [
      "This data has 62485 Rows and 18 Columns\n"
     ]
    }
   ],
   "source": [
    "data_dim = data.shape\n",
    "\n",
    "print(f\"This data has {data_dim[0]} Rows and {data_dim[1]} Columns\")"
   ]
  },
  {
   "cell_type": "code",
   "execution_count": null,
   "id": "20cbcac5",
   "metadata": {},
   "outputs": [],
   "source": []
  },
  {
   "cell_type": "markdown",
   "id": "69cf8d27",
   "metadata": {},
   "source": [
    "## Part II: Exploratory Data Analysis and Feature Engineering\n",
    "<h4><b>Overview</b></h4>\n",
    "\n",
    "This is the EDA component of this solution. The workflow for this notebook is outlined as follows:\n",
    "- Data cleaning/manipulation\n",
    "- Multivariate Exploratory Analysis\n",
    "- Splitting the data (Using K-fold and single split)"
   ]
  },
  {
   "cell_type": "markdown",
   "id": "9d3688b1",
   "metadata": {},
   "source": [
    "## 1. Checking for null or unwanted values"
   ]
  },
  {
   "cell_type": "code",
   "execution_count": 4,
   "id": "0022adf7",
   "metadata": {},
   "outputs": [
    {
     "data": {
      "text/plain": [
       "FileName              0\n",
       "md5Hash               0\n",
       "Machine               0\n",
       "DebugSize             0\n",
       "DebugRVA              0\n",
       "MajorImageVersion     0\n",
       "MajorOSVersion        0\n",
       "ExportRVA             0\n",
       "ExportSize            0\n",
       "IatVRA                0\n",
       "MajorLinkerVersion    0\n",
       "MinorLinkerVersion    0\n",
       "NumberOfSections      0\n",
       "SizeOfStackReserve    0\n",
       "DllCharacteristics    0\n",
       "ResourceSize          0\n",
       "BitcoinAddresses      0\n",
       "Benign                0\n",
       "dtype: int64"
      ]
     },
     "execution_count": 4,
     "metadata": {},
     "output_type": "execute_result"
    }
   ],
   "source": [
    "data.isnull().sum()"
   ]
  },
  {
   "cell_type": "markdown",
   "id": "b10b8d59",
   "metadata": {},
   "source": [
    "## 2. Exploration"
   ]
  },
  {
   "cell_type": "code",
   "execution_count": 5,
   "id": "54f1f0e8",
   "metadata": {
    "scrolled": true
   },
   "outputs": [
    {
     "data": {
      "text/html": [
       "<div>\n",
       "<style scoped>\n",
       "    .dataframe tbody tr th:only-of-type {\n",
       "        vertical-align: middle;\n",
       "    }\n",
       "\n",
       "    .dataframe tbody tr th {\n",
       "        vertical-align: top;\n",
       "    }\n",
       "\n",
       "    .dataframe thead th {\n",
       "        text-align: right;\n",
       "    }\n",
       "</style>\n",
       "<table border=\"1\" class=\"dataframe\">\n",
       "  <thead>\n",
       "    <tr style=\"text-align: right;\">\n",
       "      <th></th>\n",
       "      <th>Machine</th>\n",
       "      <th>DebugSize</th>\n",
       "      <th>DebugRVA</th>\n",
       "      <th>MajorImageVersion</th>\n",
       "      <th>MajorOSVersion</th>\n",
       "      <th>ExportRVA</th>\n",
       "      <th>ExportSize</th>\n",
       "      <th>IatVRA</th>\n",
       "      <th>MajorLinkerVersion</th>\n",
       "      <th>MinorLinkerVersion</th>\n",
       "      <th>NumberOfSections</th>\n",
       "      <th>SizeOfStackReserve</th>\n",
       "      <th>DllCharacteristics</th>\n",
       "      <th>ResourceSize</th>\n",
       "      <th>BitcoinAddresses</th>\n",
       "      <th>Benign</th>\n",
       "    </tr>\n",
       "  </thead>\n",
       "  <tbody>\n",
       "    <tr>\n",
       "      <th>count</th>\n",
       "      <td>62485.000000</td>\n",
       "      <td>6.248500e+04</td>\n",
       "      <td>6.248500e+04</td>\n",
       "      <td>62485.000000</td>\n",
       "      <td>62485.000000</td>\n",
       "      <td>6.248500e+04</td>\n",
       "      <td>6.248500e+04</td>\n",
       "      <td>6.248500e+04</td>\n",
       "      <td>62485.000000</td>\n",
       "      <td>62485.000000</td>\n",
       "      <td>62485.000000</td>\n",
       "      <td>6.248500e+04</td>\n",
       "      <td>62485.000000</td>\n",
       "      <td>6.248500e+04</td>\n",
       "      <td>62485.000000</td>\n",
       "      <td>62485.000000</td>\n",
       "    </tr>\n",
       "    <tr>\n",
       "      <th>mean</th>\n",
       "      <td>6756.472657</td>\n",
       "      <td>2.587048e+04</td>\n",
       "      <td>1.541611e+05</td>\n",
       "      <td>58.785997</td>\n",
       "      <td>5.417524</td>\n",
       "      <td>8.953186e+05</td>\n",
       "      <td>4.094623e+05</td>\n",
       "      <td>1.466311e+05</td>\n",
       "      <td>9.782604</td>\n",
       "      <td>6.613171</td>\n",
       "      <td>4.751172</td>\n",
       "      <td>8.759830e+05</td>\n",
       "      <td>12966.031400</td>\n",
       "      <td>1.844664e+05</td>\n",
       "      <td>0.018004</td>\n",
       "      <td>0.433992</td>\n",
       "    </tr>\n",
       "    <tr>\n",
       "      <th>std</th>\n",
       "      <td>13345.499919</td>\n",
       "      <td>6.461396e+06</td>\n",
       "      <td>1.903142e+06</td>\n",
       "      <td>1114.068244</td>\n",
       "      <td>2.543697</td>\n",
       "      <td>3.779527e+07</td>\n",
       "      <td>2.851820e+07</td>\n",
       "      <td>1.124630e+06</td>\n",
       "      <td>9.047157</td>\n",
       "      <td>16.976465</td>\n",
       "      <td>2.138584</td>\n",
       "      <td>6.288189e+05</td>\n",
       "      <td>15762.725511</td>\n",
       "      <td>1.732625e+07</td>\n",
       "      <td>0.132968</td>\n",
       "      <td>0.495628</td>\n",
       "    </tr>\n",
       "    <tr>\n",
       "      <th>min</th>\n",
       "      <td>0.000000</td>\n",
       "      <td>0.000000e+00</td>\n",
       "      <td>0.000000e+00</td>\n",
       "      <td>0.000000</td>\n",
       "      <td>0.000000</td>\n",
       "      <td>0.000000e+00</td>\n",
       "      <td>0.000000e+00</td>\n",
       "      <td>0.000000e+00</td>\n",
       "      <td>0.000000</td>\n",
       "      <td>0.000000</td>\n",
       "      <td>1.000000</td>\n",
       "      <td>0.000000e+00</td>\n",
       "      <td>0.000000</td>\n",
       "      <td>0.000000e+00</td>\n",
       "      <td>0.000000</td>\n",
       "      <td>0.000000</td>\n",
       "    </tr>\n",
       "    <tr>\n",
       "      <th>25%</th>\n",
       "      <td>332.000000</td>\n",
       "      <td>0.000000e+00</td>\n",
       "      <td>0.000000e+00</td>\n",
       "      <td>0.000000</td>\n",
       "      <td>4.000000</td>\n",
       "      <td>0.000000e+00</td>\n",
       "      <td>0.000000e+00</td>\n",
       "      <td>4.096000e+03</td>\n",
       "      <td>6.000000</td>\n",
       "      <td>0.000000</td>\n",
       "      <td>3.000000</td>\n",
       "      <td>2.621440e+05</td>\n",
       "      <td>0.000000</td>\n",
       "      <td>1.080000e+03</td>\n",
       "      <td>0.000000</td>\n",
       "      <td>0.000000</td>\n",
       "    </tr>\n",
       "    <tr>\n",
       "      <th>50%</th>\n",
       "      <td>332.000000</td>\n",
       "      <td>0.000000e+00</td>\n",
       "      <td>0.000000e+00</td>\n",
       "      <td>0.000000</td>\n",
       "      <td>5.000000</td>\n",
       "      <td>0.000000e+00</td>\n",
       "      <td>0.000000e+00</td>\n",
       "      <td>8.520000e+03</td>\n",
       "      <td>9.000000</td>\n",
       "      <td>0.000000</td>\n",
       "      <td>5.000000</td>\n",
       "      <td>1.048576e+06</td>\n",
       "      <td>320.000000</td>\n",
       "      <td>2.496000e+03</td>\n",
       "      <td>0.000000</td>\n",
       "      <td>0.000000</td>\n",
       "    </tr>\n",
       "    <tr>\n",
       "      <th>75%</th>\n",
       "      <td>332.000000</td>\n",
       "      <td>2.800000e+01</td>\n",
       "      <td>1.283200e+04</td>\n",
       "      <td>6.000000</td>\n",
       "      <td>6.000000</td>\n",
       "      <td>2.875200e+04</td>\n",
       "      <td>1.040000e+02</td>\n",
       "      <td>6.553600e+04</td>\n",
       "      <td>11.000000</td>\n",
       "      <td>10.000000</td>\n",
       "      <td>6.000000</td>\n",
       "      <td>1.048576e+06</td>\n",
       "      <td>32768.000000</td>\n",
       "      <td>2.350400e+04</td>\n",
       "      <td>0.000000</td>\n",
       "      <td>1.000000</td>\n",
       "    </tr>\n",
       "    <tr>\n",
       "      <th>max</th>\n",
       "      <td>43620.000000</td>\n",
       "      <td>1.615155e+09</td>\n",
       "      <td>2.852127e+08</td>\n",
       "      <td>63325.000000</td>\n",
       "      <td>260.000000</td>\n",
       "      <td>2.147484e+09</td>\n",
       "      <td>2.415919e+09</td>\n",
       "      <td>6.615450e+07</td>\n",
       "      <td>255.000000</td>\n",
       "      <td>255.000000</td>\n",
       "      <td>33.000000</td>\n",
       "      <td>1.677722e+07</td>\n",
       "      <td>58632.000000</td>\n",
       "      <td>4.294942e+09</td>\n",
       "      <td>1.000000</td>\n",
       "      <td>1.000000</td>\n",
       "    </tr>\n",
       "  </tbody>\n",
       "</table>\n",
       "</div>"
      ],
      "text/plain": [
       "            Machine     DebugSize      DebugRVA  MajorImageVersion  \\\n",
       "count  62485.000000  6.248500e+04  6.248500e+04       62485.000000   \n",
       "mean    6756.472657  2.587048e+04  1.541611e+05          58.785997   \n",
       "std    13345.499919  6.461396e+06  1.903142e+06        1114.068244   \n",
       "min        0.000000  0.000000e+00  0.000000e+00           0.000000   \n",
       "25%      332.000000  0.000000e+00  0.000000e+00           0.000000   \n",
       "50%      332.000000  0.000000e+00  0.000000e+00           0.000000   \n",
       "75%      332.000000  2.800000e+01  1.283200e+04           6.000000   \n",
       "max    43620.000000  1.615155e+09  2.852127e+08       63325.000000   \n",
       "\n",
       "       MajorOSVersion     ExportRVA    ExportSize        IatVRA  \\\n",
       "count    62485.000000  6.248500e+04  6.248500e+04  6.248500e+04   \n",
       "mean         5.417524  8.953186e+05  4.094623e+05  1.466311e+05   \n",
       "std          2.543697  3.779527e+07  2.851820e+07  1.124630e+06   \n",
       "min          0.000000  0.000000e+00  0.000000e+00  0.000000e+00   \n",
       "25%          4.000000  0.000000e+00  0.000000e+00  4.096000e+03   \n",
       "50%          5.000000  0.000000e+00  0.000000e+00  8.520000e+03   \n",
       "75%          6.000000  2.875200e+04  1.040000e+02  6.553600e+04   \n",
       "max        260.000000  2.147484e+09  2.415919e+09  6.615450e+07   \n",
       "\n",
       "       MajorLinkerVersion  MinorLinkerVersion  NumberOfSections  \\\n",
       "count        62485.000000        62485.000000      62485.000000   \n",
       "mean             9.782604            6.613171          4.751172   \n",
       "std              9.047157           16.976465          2.138584   \n",
       "min              0.000000            0.000000          1.000000   \n",
       "25%              6.000000            0.000000          3.000000   \n",
       "50%              9.000000            0.000000          5.000000   \n",
       "75%             11.000000           10.000000          6.000000   \n",
       "max            255.000000          255.000000         33.000000   \n",
       "\n",
       "       SizeOfStackReserve  DllCharacteristics  ResourceSize  BitcoinAddresses  \\\n",
       "count        6.248500e+04        62485.000000  6.248500e+04      62485.000000   \n",
       "mean         8.759830e+05        12966.031400  1.844664e+05          0.018004   \n",
       "std          6.288189e+05        15762.725511  1.732625e+07          0.132968   \n",
       "min          0.000000e+00            0.000000  0.000000e+00          0.000000   \n",
       "25%          2.621440e+05            0.000000  1.080000e+03          0.000000   \n",
       "50%          1.048576e+06          320.000000  2.496000e+03          0.000000   \n",
       "75%          1.048576e+06        32768.000000  2.350400e+04          0.000000   \n",
       "max          1.677722e+07        58632.000000  4.294942e+09          1.000000   \n",
       "\n",
       "             Benign  \n",
       "count  62485.000000  \n",
       "mean       0.433992  \n",
       "std        0.495628  \n",
       "min        0.000000  \n",
       "25%        0.000000  \n",
       "50%        0.000000  \n",
       "75%        1.000000  \n",
       "max        1.000000  "
      ]
     },
     "execution_count": 5,
     "metadata": {},
     "output_type": "execute_result"
    }
   ],
   "source": [
    "data.describe()"
   ]
  },
  {
   "cell_type": "code",
   "execution_count": 6,
   "id": "d6b5c0de",
   "metadata": {},
   "outputs": [
    {
     "name": "stdout",
     "output_type": "stream",
     "text": [
      "<class 'pandas.core.frame.DataFrame'>\n",
      "RangeIndex: 62485 entries, 0 to 62484\n",
      "Data columns (total 18 columns):\n",
      " #   Column              Non-Null Count  Dtype \n",
      "---  ------              --------------  ----- \n",
      " 0   FileName            62485 non-null  object\n",
      " 1   md5Hash             62485 non-null  object\n",
      " 2   Machine             62485 non-null  int64 \n",
      " 3   DebugSize           62485 non-null  int64 \n",
      " 4   DebugRVA            62485 non-null  int64 \n",
      " 5   MajorImageVersion   62485 non-null  int64 \n",
      " 6   MajorOSVersion      62485 non-null  int64 \n",
      " 7   ExportRVA           62485 non-null  int64 \n",
      " 8   ExportSize          62485 non-null  int64 \n",
      " 9   IatVRA              62485 non-null  int64 \n",
      " 10  MajorLinkerVersion  62485 non-null  int64 \n",
      " 11  MinorLinkerVersion  62485 non-null  int64 \n",
      " 12  NumberOfSections    62485 non-null  int64 \n",
      " 13  SizeOfStackReserve  62485 non-null  int64 \n",
      " 14  DllCharacteristics  62485 non-null  int64 \n",
      " 15  ResourceSize        62485 non-null  int64 \n",
      " 16  BitcoinAddresses    62485 non-null  int64 \n",
      " 17  Benign              62485 non-null  int64 \n",
      "dtypes: int64(16), object(2)\n",
      "memory usage: 8.6+ MB\n"
     ]
    }
   ],
   "source": [
    "data.info()"
   ]
  },
  {
   "cell_type": "code",
   "execution_count": 7,
   "id": "66c25daa",
   "metadata": {},
   "outputs": [
    {
     "data": {
      "text/plain": [
       "0             36521\n",
       "28            12719\n",
       "84             8974\n",
       "56             4087\n",
       "112              89\n",
       "1                55\n",
       "536               9\n",
       "257               6\n",
       "32                3\n",
       "30                3\n",
       "512               3\n",
       "140               2\n",
       "109               1\n",
       "256               1\n",
       "102               1\n",
       "1236              1\n",
       "49                1\n",
       "16                1\n",
       "17                1\n",
       "1615155235        1\n",
       "135               1\n",
       "4                 1\n",
       "10                1\n",
       "1056              1\n",
       "276               1\n",
       "1072              1\n",
       "Name: DebugSize, dtype: int64"
      ]
     },
     "execution_count": 7,
     "metadata": {},
     "output_type": "execute_result"
    }
   ],
   "source": [
    "data[\"DebugSize\"].value_counts()"
   ]
  },
  {
   "cell_type": "code",
   "execution_count": 8,
   "id": "23e19867",
   "metadata": {},
   "outputs": [
    {
     "data": {
      "text/plain": [
       "5     15304\n",
       "3     14124\n",
       "4     10018\n",
       "6      7803\n",
       "2      5202\n",
       "7      4219\n",
       "8      1785\n",
       "9      1250\n",
       "10      855\n",
       "1       628\n",
       "11      500\n",
       "13      275\n",
       "12      273\n",
       "14       97\n",
       "17       39\n",
       "19       33\n",
       "15       22\n",
       "16       21\n",
       "18       16\n",
       "20        7\n",
       "Name: NumberOfSections, dtype: int64"
      ]
     },
     "execution_count": 8,
     "metadata": {},
     "output_type": "execute_result"
    }
   ],
   "source": [
    "data[\"NumberOfSections\"].value_counts()[:20]"
   ]
  },
  {
   "cell_type": "code",
   "execution_count": 9,
   "id": "9b5d46e1",
   "metadata": {},
   "outputs": [
    {
     "data": {
      "text/html": [
       "<div>\n",
       "<style scoped>\n",
       "    .dataframe tbody tr th:only-of-type {\n",
       "        vertical-align: middle;\n",
       "    }\n",
       "\n",
       "    .dataframe tbody tr th {\n",
       "        vertical-align: top;\n",
       "    }\n",
       "\n",
       "    .dataframe thead th {\n",
       "        text-align: right;\n",
       "    }\n",
       "</style>\n",
       "<table border=\"1\" class=\"dataframe\">\n",
       "  <thead>\n",
       "    <tr style=\"text-align: right;\">\n",
       "      <th></th>\n",
       "      <th>Machine</th>\n",
       "      <th>DebugSize</th>\n",
       "      <th>DebugRVA</th>\n",
       "      <th>MajorImageVersion</th>\n",
       "      <th>MajorOSVersion</th>\n",
       "      <th>ExportRVA</th>\n",
       "      <th>ExportSize</th>\n",
       "      <th>IatVRA</th>\n",
       "      <th>MajorLinkerVersion</th>\n",
       "      <th>MinorLinkerVersion</th>\n",
       "      <th>NumberOfSections</th>\n",
       "      <th>SizeOfStackReserve</th>\n",
       "      <th>DllCharacteristics</th>\n",
       "      <th>ResourceSize</th>\n",
       "      <th>BitcoinAddresses</th>\n",
       "      <th>Benign</th>\n",
       "    </tr>\n",
       "  </thead>\n",
       "  <tbody>\n",
       "    <tr>\n",
       "      <th>Machine</th>\n",
       "      <td>1.000000</td>\n",
       "      <td>-0.001924</td>\n",
       "      <td>0.057530</td>\n",
       "      <td>0.044044</td>\n",
       "      <td>0.380672</td>\n",
       "      <td>-0.005199</td>\n",
       "      <td>-0.006838</td>\n",
       "      <td>0.077284</td>\n",
       "      <td>0.099463</td>\n",
       "      <td>-0.019648</td>\n",
       "      <td>0.220295</td>\n",
       "      <td>-0.232794</td>\n",
       "      <td>0.033809</td>\n",
       "      <td>-0.000603</td>\n",
       "      <td>0.070023</td>\n",
       "      <td>0.549434</td>\n",
       "    </tr>\n",
       "    <tr>\n",
       "      <th>DebugSize</th>\n",
       "      <td>-0.001924</td>\n",
       "      <td>1.000000</td>\n",
       "      <td>-0.000287</td>\n",
       "      <td>-0.000207</td>\n",
       "      <td>-0.002226</td>\n",
       "      <td>-0.000093</td>\n",
       "      <td>-0.000055</td>\n",
       "      <td>-0.000507</td>\n",
       "      <td>-0.001671</td>\n",
       "      <td>-0.001558</td>\n",
       "      <td>-0.003275</td>\n",
       "      <td>0.001208</td>\n",
       "      <td>-0.003290</td>\n",
       "      <td>-0.000042</td>\n",
       "      <td>-0.000541</td>\n",
       "      <td>-0.003500</td>\n",
       "    </tr>\n",
       "    <tr>\n",
       "      <th>DebugRVA</th>\n",
       "      <td>0.057530</td>\n",
       "      <td>-0.000287</td>\n",
       "      <td>1.000000</td>\n",
       "      <td>0.016538</td>\n",
       "      <td>0.022162</td>\n",
       "      <td>0.019699</td>\n",
       "      <td>-0.001079</td>\n",
       "      <td>0.457697</td>\n",
       "      <td>0.031796</td>\n",
       "      <td>-0.006481</td>\n",
       "      <td>0.049066</td>\n",
       "      <td>-0.009498</td>\n",
       "      <td>0.017233</td>\n",
       "      <td>0.000723</td>\n",
       "      <td>0.114187</td>\n",
       "      <td>0.072781</td>\n",
       "    </tr>\n",
       "    <tr>\n",
       "      <th>MajorImageVersion</th>\n",
       "      <td>0.044044</td>\n",
       "      <td>-0.000207</td>\n",
       "      <td>0.016538</td>\n",
       "      <td>1.000000</td>\n",
       "      <td>0.042068</td>\n",
       "      <td>-0.000102</td>\n",
       "      <td>-0.000756</td>\n",
       "      <td>0.012210</td>\n",
       "      <td>0.005562</td>\n",
       "      <td>-0.006564</td>\n",
       "      <td>0.026520</td>\n",
       "      <td>-0.027773</td>\n",
       "      <td>0.000987</td>\n",
       "      <td>-0.000445</td>\n",
       "      <td>-0.003054</td>\n",
       "      <td>0.049603</td>\n",
       "    </tr>\n",
       "    <tr>\n",
       "      <th>MajorOSVersion</th>\n",
       "      <td>0.380672</td>\n",
       "      <td>-0.002226</td>\n",
       "      <td>0.022162</td>\n",
       "      <td>0.042068</td>\n",
       "      <td>1.000000</td>\n",
       "      <td>-0.001781</td>\n",
       "      <td>-0.007947</td>\n",
       "      <td>0.054260</td>\n",
       "      <td>0.193996</td>\n",
       "      <td>0.012626</td>\n",
       "      <td>0.183420</td>\n",
       "      <td>-0.340831</td>\n",
       "      <td>0.071795</td>\n",
       "      <td>-0.001643</td>\n",
       "      <td>0.021022</td>\n",
       "      <td>0.398076</td>\n",
       "    </tr>\n",
       "    <tr>\n",
       "      <th>ExportRVA</th>\n",
       "      <td>-0.005199</td>\n",
       "      <td>-0.000093</td>\n",
       "      <td>0.019699</td>\n",
       "      <td>-0.000102</td>\n",
       "      <td>-0.001781</td>\n",
       "      <td>1.000000</td>\n",
       "      <td>0.183336</td>\n",
       "      <td>0.030379</td>\n",
       "      <td>0.002458</td>\n",
       "      <td>-0.004613</td>\n",
       "      <td>0.002855</td>\n",
       "      <td>0.004430</td>\n",
       "      <td>-0.017103</td>\n",
       "      <td>0.000624</td>\n",
       "      <td>0.004290</td>\n",
       "      <td>-0.012547</td>\n",
       "    </tr>\n",
       "    <tr>\n",
       "      <th>ExportSize</th>\n",
       "      <td>-0.006838</td>\n",
       "      <td>-0.000055</td>\n",
       "      <td>-0.001079</td>\n",
       "      <td>-0.000756</td>\n",
       "      <td>-0.007947</td>\n",
       "      <td>0.183336</td>\n",
       "      <td>1.000000</td>\n",
       "      <td>-0.001651</td>\n",
       "      <td>-0.012077</td>\n",
       "      <td>0.002214</td>\n",
       "      <td>0.025139</td>\n",
       "      <td>0.003927</td>\n",
       "      <td>-0.011794</td>\n",
       "      <td>-0.000084</td>\n",
       "      <td>-0.001738</td>\n",
       "      <td>-0.012457</td>\n",
       "    </tr>\n",
       "    <tr>\n",
       "      <th>IatVRA</th>\n",
       "      <td>0.077284</td>\n",
       "      <td>-0.000507</td>\n",
       "      <td>0.457697</td>\n",
       "      <td>0.012210</td>\n",
       "      <td>0.054260</td>\n",
       "      <td>0.030379</td>\n",
       "      <td>-0.001651</td>\n",
       "      <td>1.000000</td>\n",
       "      <td>0.029398</td>\n",
       "      <td>0.017115</td>\n",
       "      <td>0.120933</td>\n",
       "      <td>0.019149</td>\n",
       "      <td>-0.007297</td>\n",
       "      <td>0.001187</td>\n",
       "      <td>0.146013</td>\n",
       "      <td>0.084622</td>\n",
       "    </tr>\n",
       "    <tr>\n",
       "      <th>MajorLinkerVersion</th>\n",
       "      <td>0.099463</td>\n",
       "      <td>-0.001671</td>\n",
       "      <td>0.031796</td>\n",
       "      <td>0.005562</td>\n",
       "      <td>0.193996</td>\n",
       "      <td>0.002458</td>\n",
       "      <td>-0.012077</td>\n",
       "      <td>0.029398</td>\n",
       "      <td>1.000000</td>\n",
       "      <td>0.041021</td>\n",
       "      <td>0.017235</td>\n",
       "      <td>-0.028226</td>\n",
       "      <td>0.210027</td>\n",
       "      <td>-0.003666</td>\n",
       "      <td>0.015706</td>\n",
       "      <td>0.296925</td>\n",
       "    </tr>\n",
       "    <tr>\n",
       "      <th>MinorLinkerVersion</th>\n",
       "      <td>-0.019648</td>\n",
       "      <td>-0.001558</td>\n",
       "      <td>-0.006481</td>\n",
       "      <td>-0.006564</td>\n",
       "      <td>0.012626</td>\n",
       "      <td>-0.004613</td>\n",
       "      <td>0.002214</td>\n",
       "      <td>0.017115</td>\n",
       "      <td>0.041021</td>\n",
       "      <td>1.000000</td>\n",
       "      <td>0.178002</td>\n",
       "      <td>0.001123</td>\n",
       "      <td>-0.186791</td>\n",
       "      <td>0.004039</td>\n",
       "      <td>-0.024033</td>\n",
       "      <td>-0.111294</td>\n",
       "    </tr>\n",
       "    <tr>\n",
       "      <th>NumberOfSections</th>\n",
       "      <td>0.220295</td>\n",
       "      <td>-0.003275</td>\n",
       "      <td>0.049066</td>\n",
       "      <td>0.026520</td>\n",
       "      <td>0.183420</td>\n",
       "      <td>0.002855</td>\n",
       "      <td>0.025139</td>\n",
       "      <td>0.120933</td>\n",
       "      <td>0.017235</td>\n",
       "      <td>0.178002</td>\n",
       "      <td>1.000000</td>\n",
       "      <td>0.033020</td>\n",
       "      <td>-0.033054</td>\n",
       "      <td>0.008418</td>\n",
       "      <td>0.019807</td>\n",
       "      <td>-0.020433</td>\n",
       "    </tr>\n",
       "    <tr>\n",
       "      <th>SizeOfStackReserve</th>\n",
       "      <td>-0.232794</td>\n",
       "      <td>0.001208</td>\n",
       "      <td>-0.009498</td>\n",
       "      <td>-0.027773</td>\n",
       "      <td>-0.340831</td>\n",
       "      <td>0.004430</td>\n",
       "      <td>0.003927</td>\n",
       "      <td>0.019149</td>\n",
       "      <td>-0.028226</td>\n",
       "      <td>0.001123</td>\n",
       "      <td>0.033020</td>\n",
       "      <td>1.000000</td>\n",
       "      <td>0.023360</td>\n",
       "      <td>0.000919</td>\n",
       "      <td>-0.019754</td>\n",
       "      <td>-0.282151</td>\n",
       "    </tr>\n",
       "    <tr>\n",
       "      <th>DllCharacteristics</th>\n",
       "      <td>0.033809</td>\n",
       "      <td>-0.003290</td>\n",
       "      <td>0.017233</td>\n",
       "      <td>0.000987</td>\n",
       "      <td>0.071795</td>\n",
       "      <td>-0.017103</td>\n",
       "      <td>-0.011794</td>\n",
       "      <td>-0.007297</td>\n",
       "      <td>0.210027</td>\n",
       "      <td>-0.186791</td>\n",
       "      <td>-0.033054</td>\n",
       "      <td>0.023360</td>\n",
       "      <td>1.000000</td>\n",
       "      <td>-0.004083</td>\n",
       "      <td>-0.032010</td>\n",
       "      <td>0.261118</td>\n",
       "    </tr>\n",
       "    <tr>\n",
       "      <th>ResourceSize</th>\n",
       "      <td>-0.000603</td>\n",
       "      <td>-0.000042</td>\n",
       "      <td>0.000723</td>\n",
       "      <td>-0.000445</td>\n",
       "      <td>-0.001643</td>\n",
       "      <td>0.000624</td>\n",
       "      <td>-0.000084</td>\n",
       "      <td>0.001187</td>\n",
       "      <td>-0.003666</td>\n",
       "      <td>0.004039</td>\n",
       "      <td>0.008418</td>\n",
       "      <td>0.000919</td>\n",
       "      <td>-0.004083</td>\n",
       "      <td>1.000000</td>\n",
       "      <td>0.005666</td>\n",
       "      <td>-0.002168</td>\n",
       "    </tr>\n",
       "    <tr>\n",
       "      <th>BitcoinAddresses</th>\n",
       "      <td>0.070023</td>\n",
       "      <td>-0.000541</td>\n",
       "      <td>0.114187</td>\n",
       "      <td>-0.003054</td>\n",
       "      <td>0.021022</td>\n",
       "      <td>0.004290</td>\n",
       "      <td>-0.001738</td>\n",
       "      <td>0.146013</td>\n",
       "      <td>0.015706</td>\n",
       "      <td>-0.024033</td>\n",
       "      <td>0.019807</td>\n",
       "      <td>-0.019754</td>\n",
       "      <td>-0.032010</td>\n",
       "      <td>0.005666</td>\n",
       "      <td>1.000000</td>\n",
       "      <td>0.054824</td>\n",
       "    </tr>\n",
       "    <tr>\n",
       "      <th>Benign</th>\n",
       "      <td>0.549434</td>\n",
       "      <td>-0.003500</td>\n",
       "      <td>0.072781</td>\n",
       "      <td>0.049603</td>\n",
       "      <td>0.398076</td>\n",
       "      <td>-0.012547</td>\n",
       "      <td>-0.012457</td>\n",
       "      <td>0.084622</td>\n",
       "      <td>0.296925</td>\n",
       "      <td>-0.111294</td>\n",
       "      <td>-0.020433</td>\n",
       "      <td>-0.282151</td>\n",
       "      <td>0.261118</td>\n",
       "      <td>-0.002168</td>\n",
       "      <td>0.054824</td>\n",
       "      <td>1.000000</td>\n",
       "    </tr>\n",
       "  </tbody>\n",
       "</table>\n",
       "</div>"
      ],
      "text/plain": [
       "                     Machine  DebugSize  DebugRVA  MajorImageVersion  \\\n",
       "Machine             1.000000  -0.001924  0.057530           0.044044   \n",
       "DebugSize          -0.001924   1.000000 -0.000287          -0.000207   \n",
       "DebugRVA            0.057530  -0.000287  1.000000           0.016538   \n",
       "MajorImageVersion   0.044044  -0.000207  0.016538           1.000000   \n",
       "MajorOSVersion      0.380672  -0.002226  0.022162           0.042068   \n",
       "ExportRVA          -0.005199  -0.000093  0.019699          -0.000102   \n",
       "ExportSize         -0.006838  -0.000055 -0.001079          -0.000756   \n",
       "IatVRA              0.077284  -0.000507  0.457697           0.012210   \n",
       "MajorLinkerVersion  0.099463  -0.001671  0.031796           0.005562   \n",
       "MinorLinkerVersion -0.019648  -0.001558 -0.006481          -0.006564   \n",
       "NumberOfSections    0.220295  -0.003275  0.049066           0.026520   \n",
       "SizeOfStackReserve -0.232794   0.001208 -0.009498          -0.027773   \n",
       "DllCharacteristics  0.033809  -0.003290  0.017233           0.000987   \n",
       "ResourceSize       -0.000603  -0.000042  0.000723          -0.000445   \n",
       "BitcoinAddresses    0.070023  -0.000541  0.114187          -0.003054   \n",
       "Benign              0.549434  -0.003500  0.072781           0.049603   \n",
       "\n",
       "                    MajorOSVersion  ExportRVA  ExportSize    IatVRA  \\\n",
       "Machine                   0.380672  -0.005199   -0.006838  0.077284   \n",
       "DebugSize                -0.002226  -0.000093   -0.000055 -0.000507   \n",
       "DebugRVA                  0.022162   0.019699   -0.001079  0.457697   \n",
       "MajorImageVersion         0.042068  -0.000102   -0.000756  0.012210   \n",
       "MajorOSVersion            1.000000  -0.001781   -0.007947  0.054260   \n",
       "ExportRVA                -0.001781   1.000000    0.183336  0.030379   \n",
       "ExportSize               -0.007947   0.183336    1.000000 -0.001651   \n",
       "IatVRA                    0.054260   0.030379   -0.001651  1.000000   \n",
       "MajorLinkerVersion        0.193996   0.002458   -0.012077  0.029398   \n",
       "MinorLinkerVersion        0.012626  -0.004613    0.002214  0.017115   \n",
       "NumberOfSections          0.183420   0.002855    0.025139  0.120933   \n",
       "SizeOfStackReserve       -0.340831   0.004430    0.003927  0.019149   \n",
       "DllCharacteristics        0.071795  -0.017103   -0.011794 -0.007297   \n",
       "ResourceSize             -0.001643   0.000624   -0.000084  0.001187   \n",
       "BitcoinAddresses          0.021022   0.004290   -0.001738  0.146013   \n",
       "Benign                    0.398076  -0.012547   -0.012457  0.084622   \n",
       "\n",
       "                    MajorLinkerVersion  MinorLinkerVersion  NumberOfSections  \\\n",
       "Machine                       0.099463           -0.019648          0.220295   \n",
       "DebugSize                    -0.001671           -0.001558         -0.003275   \n",
       "DebugRVA                      0.031796           -0.006481          0.049066   \n",
       "MajorImageVersion             0.005562           -0.006564          0.026520   \n",
       "MajorOSVersion                0.193996            0.012626          0.183420   \n",
       "ExportRVA                     0.002458           -0.004613          0.002855   \n",
       "ExportSize                   -0.012077            0.002214          0.025139   \n",
       "IatVRA                        0.029398            0.017115          0.120933   \n",
       "MajorLinkerVersion            1.000000            0.041021          0.017235   \n",
       "MinorLinkerVersion            0.041021            1.000000          0.178002   \n",
       "NumberOfSections              0.017235            0.178002          1.000000   \n",
       "SizeOfStackReserve           -0.028226            0.001123          0.033020   \n",
       "DllCharacteristics            0.210027           -0.186791         -0.033054   \n",
       "ResourceSize                 -0.003666            0.004039          0.008418   \n",
       "BitcoinAddresses              0.015706           -0.024033          0.019807   \n",
       "Benign                        0.296925           -0.111294         -0.020433   \n",
       "\n",
       "                    SizeOfStackReserve  DllCharacteristics  ResourceSize  \\\n",
       "Machine                      -0.232794            0.033809     -0.000603   \n",
       "DebugSize                     0.001208           -0.003290     -0.000042   \n",
       "DebugRVA                     -0.009498            0.017233      0.000723   \n",
       "MajorImageVersion            -0.027773            0.000987     -0.000445   \n",
       "MajorOSVersion               -0.340831            0.071795     -0.001643   \n",
       "ExportRVA                     0.004430           -0.017103      0.000624   \n",
       "ExportSize                    0.003927           -0.011794     -0.000084   \n",
       "IatVRA                        0.019149           -0.007297      0.001187   \n",
       "MajorLinkerVersion           -0.028226            0.210027     -0.003666   \n",
       "MinorLinkerVersion            0.001123           -0.186791      0.004039   \n",
       "NumberOfSections              0.033020           -0.033054      0.008418   \n",
       "SizeOfStackReserve            1.000000            0.023360      0.000919   \n",
       "DllCharacteristics            0.023360            1.000000     -0.004083   \n",
       "ResourceSize                  0.000919           -0.004083      1.000000   \n",
       "BitcoinAddresses             -0.019754           -0.032010      0.005666   \n",
       "Benign                       -0.282151            0.261118     -0.002168   \n",
       "\n",
       "                    BitcoinAddresses    Benign  \n",
       "Machine                     0.070023  0.549434  \n",
       "DebugSize                  -0.000541 -0.003500  \n",
       "DebugRVA                    0.114187  0.072781  \n",
       "MajorImageVersion          -0.003054  0.049603  \n",
       "MajorOSVersion              0.021022  0.398076  \n",
       "ExportRVA                   0.004290 -0.012547  \n",
       "ExportSize                 -0.001738 -0.012457  \n",
       "IatVRA                      0.146013  0.084622  \n",
       "MajorLinkerVersion          0.015706  0.296925  \n",
       "MinorLinkerVersion         -0.024033 -0.111294  \n",
       "NumberOfSections            0.019807 -0.020433  \n",
       "SizeOfStackReserve         -0.019754 -0.282151  \n",
       "DllCharacteristics         -0.032010  0.261118  \n",
       "ResourceSize                0.005666 -0.002168  \n",
       "BitcoinAddresses            1.000000  0.054824  \n",
       "Benign                      0.054824  1.000000  "
      ]
     },
     "execution_count": 9,
     "metadata": {},
     "output_type": "execute_result"
    }
   ],
   "source": [
    "# Correlation between features\n",
    "data.corr()"
   ]
  },
  {
   "cell_type": "code",
   "execution_count": 10,
   "id": "96f9f81e",
   "metadata": {},
   "outputs": [
    {
     "data": {
      "text/plain": [
       "Machine               0.549434\n",
       "DebugSize            -0.003500\n",
       "DebugRVA              0.072781\n",
       "MajorImageVersion     0.049603\n",
       "MajorOSVersion        0.398076\n",
       "ExportRVA            -0.012547\n",
       "ExportSize           -0.012457\n",
       "IatVRA                0.084622\n",
       "MajorLinkerVersion    0.296925\n",
       "MinorLinkerVersion   -0.111294\n",
       "NumberOfSections     -0.020433\n",
       "SizeOfStackReserve   -0.282151\n",
       "DllCharacteristics    0.261118\n",
       "ResourceSize         -0.002168\n",
       "BitcoinAddresses      0.054824\n",
       "Benign                1.000000\n",
       "Name: Benign, dtype: float64"
      ]
     },
     "execution_count": 10,
     "metadata": {},
     "output_type": "execute_result"
    }
   ],
   "source": [
    "# Correlation with target variable\n",
    "data.corr()[\"Benign\"]"
   ]
  },
  {
   "cell_type": "code",
   "execution_count": 11,
   "id": "3dc65084",
   "metadata": {},
   "outputs": [
    {
     "data": {
      "text/plain": [
       "0    35367\n",
       "1    27118\n",
       "Name: Benign, dtype: int64"
      ]
     },
     "execution_count": 11,
     "metadata": {},
     "output_type": "execute_result"
    }
   ],
   "source": [
    "data[\"Benign\"].value_counts()"
   ]
  },
  {
   "cell_type": "markdown",
   "id": "65644f02",
   "metadata": {},
   "source": [
    "## PART III: Feature Engineering and Selection\n",
    "\n",
    "This is the Feature Engineering and Selection component of this solution. The workflow for this notebook is outlined as follows:\n",
    "- Engineering\n",
    "- Feature Selection\n",
    "- Splitting the data (Using K-fold and single split)"
   ]
  },
  {
   "cell_type": "markdown",
   "id": "bb54c9a9",
   "metadata": {},
   "source": [
    "## 1. Engineering"
   ]
  },
  {
   "cell_type": "code",
   "execution_count": 12,
   "id": "af0db85a",
   "metadata": {},
   "outputs": [],
   "source": [
    "#Convert the Debug Size feature to be 0 or 1\n",
    "data[\"DebugSize\"] = [0 if values == 0 else 1 for values in data[\"DebugSize\"]]"
   ]
  },
  {
   "cell_type": "code",
   "execution_count": 13,
   "id": "4aa6c024",
   "metadata": {},
   "outputs": [
    {
     "data": {
      "text/plain": [
       "<AxesSubplot:>"
      ]
     },
     "execution_count": 13,
     "metadata": {},
     "output_type": "execute_result"
    },
    {
     "data": {
      "image/png": "[encoded data removed]",
      "text/plain": [
       "<Figure size 432x288 with 1 Axes>"
      ]
     },
     "metadata": {
      "needs_background": "light"
     },
     "output_type": "display_data"
    }
   ],
   "source": [
    "data[\"DebugSize\"].value_counts().plot(kind = \"bar\")"
   ]
  },
  {
   "cell_type": "markdown",
   "id": "0ee9d559",
   "metadata": {},
   "source": [
    "## 2. Selection"
   ]
  },
  {
   "cell_type": "code",
   "execution_count": 14,
   "id": "506e9fb9",
   "metadata": {},
   "outputs": [
    {
     "data": {
      "text/html": [
       "<div>\n",
       "<style scoped>\n",
       "    .dataframe tbody tr th:only-of-type {\n",
       "        vertical-align: middle;\n",
       "    }\n",
       "\n",
       "    .dataframe tbody tr th {\n",
       "        vertical-align: top;\n",
       "    }\n",
       "\n",
       "    .dataframe thead th {\n",
       "        text-align: right;\n",
       "    }\n",
       "</style>\n",
       "<table border=\"1\" class=\"dataframe\">\n",
       "  <thead>\n",
       "    <tr style=\"text-align: right;\">\n",
       "      <th></th>\n",
       "      <th>Machine</th>\n",
       "      <th>DebugSize</th>\n",
       "      <th>DebugRVA</th>\n",
       "      <th>MajorImageVersion</th>\n",
       "      <th>MajorOSVersion</th>\n",
       "      <th>ExportRVA</th>\n",
       "      <th>MajorLinkerVersion</th>\n",
       "      <th>MinorLinkerVersion</th>\n",
       "      <th>NumberOfSections</th>\n",
       "      <th>SizeOfStackReserve</th>\n",
       "      <th>DllCharacteristics</th>\n",
       "      <th>ResourceSize</th>\n",
       "      <th>BitcoinAddresses</th>\n",
       "      <th>Benign</th>\n",
       "    </tr>\n",
       "  </thead>\n",
       "  <tbody>\n",
       "    <tr>\n",
       "      <th>0</th>\n",
       "      <td>332</td>\n",
       "      <td>0</td>\n",
       "      <td>0</td>\n",
       "      <td>0</td>\n",
       "      <td>4</td>\n",
       "      <td>0</td>\n",
       "      <td>8</td>\n",
       "      <td>0</td>\n",
       "      <td>3</td>\n",
       "      <td>1048576</td>\n",
       "      <td>34112</td>\n",
       "      <td>672</td>\n",
       "      <td>0</td>\n",
       "      <td>1</td>\n",
       "    </tr>\n",
       "    <tr>\n",
       "      <th>1</th>\n",
       "      <td>34404</td>\n",
       "      <td>1</td>\n",
       "      <td>121728</td>\n",
       "      <td>10</td>\n",
       "      <td>10</td>\n",
       "      <td>126576</td>\n",
       "      <td>14</td>\n",
       "      <td>10</td>\n",
       "      <td>8</td>\n",
       "      <td>262144</td>\n",
       "      <td>16864</td>\n",
       "      <td>1024</td>\n",
       "      <td>0</td>\n",
       "      <td>1</td>\n",
       "    </tr>\n",
       "    <tr>\n",
       "      <th>2</th>\n",
       "      <td>332</td>\n",
       "      <td>0</td>\n",
       "      <td>0</td>\n",
       "      <td>0</td>\n",
       "      <td>4</td>\n",
       "      <td>0</td>\n",
       "      <td>8</td>\n",
       "      <td>0</td>\n",
       "      <td>3</td>\n",
       "      <td>1048576</td>\n",
       "      <td>34112</td>\n",
       "      <td>672</td>\n",
       "      <td>0</td>\n",
       "      <td>1</td>\n",
       "    </tr>\n",
       "    <tr>\n",
       "      <th>3</th>\n",
       "      <td>34404</td>\n",
       "      <td>1</td>\n",
       "      <td>19904</td>\n",
       "      <td>10</td>\n",
       "      <td>10</td>\n",
       "      <td>21312</td>\n",
       "      <td>14</td>\n",
       "      <td>10</td>\n",
       "      <td>6</td>\n",
       "      <td>262144</td>\n",
       "      <td>16736</td>\n",
       "      <td>1040</td>\n",
       "      <td>0</td>\n",
       "      <td>1</td>\n",
       "    </tr>\n",
       "    <tr>\n",
       "      <th>4</th>\n",
       "      <td>34404</td>\n",
       "      <td>1</td>\n",
       "      <td>97728</td>\n",
       "      <td>10</td>\n",
       "      <td>10</td>\n",
       "      <td>105792</td>\n",
       "      <td>14</td>\n",
       "      <td>10</td>\n",
       "      <td>7</td>\n",
       "      <td>262144</td>\n",
       "      <td>16736</td>\n",
       "      <td>1096</td>\n",
       "      <td>0</td>\n",
       "      <td>1</td>\n",
       "    </tr>\n",
       "  </tbody>\n",
       "</table>\n",
       "</div>"
      ],
      "text/plain": [
       "   Machine  DebugSize  DebugRVA  MajorImageVersion  MajorOSVersion  ExportRVA  \\\n",
       "0      332          0         0                  0               4          0   \n",
       "1    34404          1    121728                 10              10     126576   \n",
       "2      332          0         0                  0               4          0   \n",
       "3    34404          1     19904                 10              10      21312   \n",
       "4    34404          1     97728                 10              10     105792   \n",
       "\n",
       "   MajorLinkerVersion  MinorLinkerVersion  NumberOfSections  \\\n",
       "0                   8                   0                 3   \n",
       "1                  14                  10                 8   \n",
       "2                   8                   0                 3   \n",
       "3                  14                  10                 6   \n",
       "4                  14                  10                 7   \n",
       "\n",
       "   SizeOfStackReserve  DllCharacteristics  ResourceSize  BitcoinAddresses  \\\n",
       "0             1048576               34112           672                 0   \n",
       "1              262144               16864          1024                 0   \n",
       "2             1048576               34112           672                 0   \n",
       "3              262144               16736          1040                 0   \n",
       "4              262144               16736          1096                 0   \n",
       "\n",
       "   Benign  \n",
       "0       1  \n",
       "1       1  \n",
       "2       1  \n",
       "3       1  \n",
       "4       1  "
      ]
     },
     "execution_count": 14,
     "metadata": {},
     "output_type": "execute_result"
    }
   ],
   "source": [
    "# This is based off correlation between features of the dataset and labels.\n",
    "data.drop([\"FileName\", \"md5Hash\", 'ExportSize', \"IatVRA\"], axis = 1, inplace = True)\n",
    "\n",
    "data.head()"
   ]
  },
  {
   "cell_type": "markdown",
   "id": "90f9f004",
   "metadata": {},
   "source": [
    "## 3. Splitting the data\n",
    "We need to split the data for modelling. We shall adopt the following:\n",
    "- Normal splitting\n",
    "- Cross validation (K-Fold)"
   ]
  },
  {
   "cell_type": "code",
   "execution_count": 15,
   "id": "0c3bcb1f",
   "metadata": {},
   "outputs": [],
   "source": [
    "X = data.drop(\"Benign\", axis = 1)\n",
    "y = data[\"Benign\"]"
   ]
  },
  {
   "cell_type": "code",
   "execution_count": 16,
   "id": "d583ab93",
   "metadata": {},
   "outputs": [],
   "source": [
    "x_train, x_test, y_train, y_test = train_test_split(X, y, random_state = 42, test_size = 0.2)"
   ]
  },
  {
   "cell_type": "code",
   "execution_count": 17,
   "id": "d4a130a2",
   "metadata": {},
   "outputs": [],
   "source": [
    "from collections import Counter\n",
    "import imblearn"
   ]
  },
  {
   "cell_type": "code",
   "execution_count": 18,
   "id": "6386a6c4",
   "metadata": {},
   "outputs": [
    {
     "name": "stdout",
     "output_type": "stream",
     "text": [
      "Counter({0: 28242, 1: 21746}) Counter({0: 7125, 1: 5372})\n",
      "Counter({1: 35182, 0: 35182}) Counter({0: 7125, 1: 5372})\n"
     ]
    }
   ],
   "source": [
    "\"\"\"\n",
    "Before SMOTE_Tomek\n",
    "\"\"\"\n",
    "counter_train = Counter(y_train)\n",
    "counter_test = Counter(y_test)\n",
    "print(counter_train, counter_test)\n",
    "\n",
    "\n",
    "\n",
    "# creating imblearn resampling object\n",
    "# sampling strategy is the propotion of output\n",
    "# resampled data that is the minority class\n",
    "over_and_under_sample =  imblearn.combine.SMOTETomek(sampling_strategy = 1.0, n_jobs = -1, random_state = 42)\n",
    "x_train, y_train = over_and_under_sample.fit_resample(X, y)\n",
    "\n",
    "# checking under- and over-sample ratios between train and test set.\n",
    "# DO NOT resample the test set!\n",
    "counter_train = Counter(y_train)\n",
    "counter_test = Counter(y_test)\n",
    "print(counter_train, counter_test)"
   ]
  },
  {
   "cell_type": "code",
   "execution_count": 19,
   "id": "a9f8ddea",
   "metadata": {},
   "outputs": [],
   "source": [
    "# A CUSTOM FUNCTION TO IMPLEMENT CROSS VALIDATION\n",
    "\n",
    "def cross_validation(model, _X, _y, _cv=10):\n",
    "    _scoring = ['accuracy', 'precision', 'recall', 'f1']\n",
    "    results = cross_validate(estimator=model,\n",
    "                               X=_X,\n",
    "                               y=_y,\n",
    "                               cv=_cv,\n",
    "                               scoring=_scoring,\n",
    "                               return_train_score=True)\n",
    "    return {\"Training Accuracy scores\": results['train_accuracy'],\n",
    "              \"Mean Training Accuracy\": results['train_accuracy'].mean()*100,\n",
    "              \"Training Precision scores\": results['train_precision'],\n",
    "              \"Mean Training Precision\": results['train_precision'].mean()*100,\n",
    "              \"Training Recall scores\": results['train_recall'],\n",
    "              \"Mean Training Recall\": results['train_recall'].mean()*100,\n",
    "              \"Training F1 scores\": results['train_f1'],\n",
    "              \"Mean Training F1 Score\": results['train_f1'].mean()*100,\n",
    "              \"Validation Accuracy scores\": results['test_accuracy'],\n",
    "              \"Mean Validation Accuracy\": results['test_accuracy'].mean()*100,\n",
    "              \"Validation Precision scores\": results['test_precision'],\n",
    "              \"Mean Validation Precision\": results['test_precision'].mean()*100,\n",
    "              \"Validation Recall scores\": results['test_recall'],\n",
    "              \"Mean Validation Recall\": results['test_recall'].mean()*100,\n",
    "              \"Validation F1 scores\": results['test_f1'],\n",
    "              \"Mean Validation F1 Score\": results['test_f1'].mean()*100\n",
    "              }"
   ]
  },
  {
   "cell_type": "markdown",
   "id": "40b1c31f",
   "metadata": {},
   "source": [
    "## Part IV: Modelling Methodology\n",
    "### Overview\n",
    "\n",
    "This is the Machine Learning component of this solution to the task. The workflow for this notebook is outlined as follows:\n",
    "- Pick algorithms to train on the data\n",
    "- Make predictions on test data\n",
    "\n",
    "\n"
   ]
  },
  {
   "cell_type": "code",
   "execution_count": 20,
   "id": "27301247",
   "metadata": {},
   "outputs": [],
   "source": [
    "#DECLARING THE ALGORITHM\n",
    "model1 = RandomForestClassifier()"
   ]
  },
  {
   "cell_type": "code",
   "execution_count": 21,
   "id": "40d7f28e",
   "metadata": {
    "scrolled": false
   },
   "outputs": [
    {
     "data": {
      "text/plain": [
       "{'Training Accuracy scores': array([0.9996977 , 0.99962657, 0.99960879, 0.99957323, 0.99960879,\n",
       "        0.99966214, 0.9996088 , 0.9996088 , 0.99967993, 0.9996088 ]),\n",
       " 'Mean Training Accuracy': 99.96283552022449,\n",
       " 'Training Precision scores': array([0.99975411, 0.99963119, 0.99971309, 0.99971307, 0.99967213,\n",
       "        0.99979506, 0.99971309, 0.99967213, 0.99975411, 0.9997131 ]),\n",
       " 'Mean Training Precision': 99.97131082012851,\n",
       " 'Training Recall scores': array([0.99954929, 0.99950832, 0.9993854 , 0.99930345, 0.99942637,\n",
       "        0.99942637, 0.9993854 , 0.99942637, 0.99950834, 0.99938542]),\n",
       " 'Mean Training Recall': 99.9430472450381,\n",
       " 'Training F1 scores': array([0.99965169, 0.99956975, 0.99954922, 0.99950822, 0.99954924,\n",
       "        0.99961068, 0.99954922, 0.99954924, 0.99963121, 0.99954924]),\n",
       " 'Mean Training F1 Score': 99.95717687137152,\n",
       " 'Validation Accuracy scores': array([0.99359898, 0.99327892, 0.99535926, 0.99775964, 0.99535926,\n",
       "        0.99535851, 0.99519846, 0.99759923, 0.99599872, 0.99679898]),\n",
       " 'Mean Validation Accuracy': 99.56309962218795,\n",
       " 'Validation Precision scores': array([0.99628529, 0.99444444, 0.99888434, 0.9985218 , 0.99520118,\n",
       "        0.99740452, 0.99666667, 0.99778516, 0.99520649, 0.99814883]),\n",
       " 'Mean Validation Precision': 99.68548736689546,\n",
       " 'Validation Recall scores': array([0.98893805, 0.99004425, 0.99041298, 0.99631268, 0.99410029,\n",
       "        0.99188791, 0.99225664, 0.99668142, 0.99557359, 0.99446699]),\n",
       " 'Mean Validation Recall': 99.30674793722505,\n",
       " 'Validation F1 scores': array([0.99259808, 0.99223947, 0.99463062, 0.99741602, 0.99465043,\n",
       "        0.99463857, 0.99445676, 0.99723298, 0.99539001, 0.99630451]),\n",
       " 'Mean Validation F1 Score': 99.49557446458172}"
      ]
     },
     "execution_count": 21,
     "metadata": {},
     "output_type": "execute_result"
    }
   ],
   "source": [
    "# Training With Cross Validation\n",
    "model_result = cross_validation(model1, X, y, 10)\n",
    "model_result"
   ]
  },
  {
   "cell_type": "code",
   "execution_count": 22,
   "id": "7dbc0c7a",
   "metadata": {},
   "outputs": [
    {
     "data": {
      "text/plain": [
       "70364"
      ]
     },
     "execution_count": 22,
     "metadata": {},
     "output_type": "execute_result"
    }
   ],
   "source": [
    "len(y_train)"
   ]
  },
  {
   "cell_type": "code",
   "execution_count": 23,
   "id": "14fba8ee",
   "metadata": {},
   "outputs": [
    {
     "data": {
      "text/plain": [
       "12497"
      ]
     },
     "execution_count": 23,
     "metadata": {},
     "output_type": "execute_result"
    }
   ],
   "source": [
    "len(y_test)"
   ]
  },
  {
   "cell_type": "code",
   "execution_count": 24,
   "id": "500efa0e",
   "metadata": {},
   "outputs": [],
   "source": [
    "# Training Without Cross Validation\n",
    "model1.fit(x_train, y_train)\n",
    "prediction = model1.predict_proba(x_test) [:, 1]"
   ]
  },
  {
   "cell_type": "code",
   "execution_count": 25,
   "id": "af41d9b0",
   "metadata": {},
   "outputs": [
    {
     "name": "stdout",
     "output_type": "stream",
     "text": [
      "[0 1 1 0 0 1 0 1 0 1 1 1 0 1 1] 51802    0\n",
      "15780    1\n",
      "3788     1\n",
      "58196    0\n",
      "47275    0\n",
      "3798     1\n",
      "41296    0\n",
      "26632    1\n",
      "46207    0\n",
      "10574    1\n",
      "19214    1\n",
      "7451     1\n",
      "31785    0\n",
      "12796    1\n",
      "11821    1\n",
      "Name: Benign, dtype: int64\n"
     ]
    }
   ],
   "source": [
    "pred = model1.predict(x_test)\n",
    "print(pred[:15], y_test[:15])"
   ]
  },
  {
   "cell_type": "markdown",
   "id": "40f7a07c",
   "metadata": {},
   "source": [
    "# Evaluation\n",
    "\n",
    "## Overview\n",
    "\n",
    "This is the Evaluation component of this solution to the task. The workflow for this notebook is outlined as follows:\n",
    "- Compare our model's prediction to the actual labels of the test data.\n",
    "- Visualize some of these evaluations\n",
    "\n",
    "We will consider the following metrics:\n",
    "- Accuracy\n",
    "- Precision\n",
    "- Recall\n",
    "- Confusion Matrix\n",
    "- Area Under Curve (AUC)"
   ]
  },
  {
   "cell_type": "code",
   "execution_count": 26,
   "id": "c3bee45c",
   "metadata": {},
   "outputs": [],
   "source": [
    "# CUSTOM FUNCTION FOR VISUALIZING OUR RESULTS\n",
    "\n",
    "# Grouped Bar Chart for both training and validation data\n",
    "def plot_result(x_label, y_label, plot_title, train_data, val_data):\n",
    "    # Set size of plot\n",
    "    plt.figure(figsize=(12,6))\n",
    "    labels = [\"1st Fold\", \"2nd Fold\", \"3rd Fold\", \"4th Fold\", \"5th Fold\", \"6th Fold\", \"7th Fold\", \"8th Fold\", \"9th Fold\", \"10th Fold\"]\n",
    "    X_axis = np.arange(len(labels))\n",
    "    ax = plt.gca()\n",
    "    plt.ylim(0.40000, 1)\n",
    "    plt.bar(X_axis-0.2, train_data, 0.4, color='blue', label='Training')\n",
    "    plt.bar(X_axis+0.2, val_data, 0.4, color='red', label='Validation')\n",
    "    plt.title(plot_title, fontsize=30)\n",
    "    plt.xticks(X_axis, labels)\n",
    "    plt.xlabel(x_label, fontsize=14)\n",
    "    plt.ylabel(y_label, fontsize=14)\n",
    "    plt.legend()\n",
    "    plt.grid(True)\n",
    "    plt.show()"
   ]
  },
  {
   "cell_type": "markdown",
   "id": "94ff1230",
   "metadata": {},
   "source": [
    "## 1. Accuracy"
   ]
  },
  {
   "cell_type": "code",
   "execution_count": 27,
   "id": "7c8f3e52",
   "metadata": {},
   "outputs": [],
   "source": [
    "# model_name = \"Random Forest\"\n",
    "# plot_result(model_name, \"Accuracy\", \"Accuracy In 10 Folds\",\n",
    "#            model_result[\"Training Accuracy scores\"],\n",
    "#            model_result[\"Validation Accuracy scores\"])\n"
   ]
  },
  {
   "cell_type": "markdown",
   "id": "cc7d3b92",
   "metadata": {},
   "source": [
    "## 2. Precision"
   ]
  },
  {
   "cell_type": "code",
   "execution_count": 28,
   "id": "8fcf24ac",
   "metadata": {},
   "outputs": [],
   "source": [
    "# plot_result(model_name, \"Precision\", \"Precision Score In 10 Folds\",\n",
    "#            model_result[\"Training Precision scores\"],\n",
    "#            model_result[\"Validation Precision scores\"])"
   ]
  },
  {
   "cell_type": "markdown",
   "id": "9b82c5eb",
   "metadata": {},
   "source": [
    "## 3. Recall"
   ]
  },
  {
   "cell_type": "code",
   "execution_count": 29,
   "id": "d07ec333",
   "metadata": {
    "scrolled": true
   },
   "outputs": [],
   "source": [
    "# plot_result(model_name, \"Recall\", \"Recall In 10 Folds\",\n",
    "#            model_result[\"Training Recall scores\"],\n",
    "#            model_result[\"Validation Recall scores\"])"
   ]
  },
  {
   "cell_type": "markdown",
   "id": "4ed148c6",
   "metadata": {},
   "source": [
    "# 4. F1-Score"
   ]
  },
  {
   "cell_type": "code",
   "execution_count": 30,
   "id": "3e2a680c",
   "metadata": {},
   "outputs": [],
   "source": [
    "# model_name = \"Random Forest\"\n",
    "# plot_result(model_name, \"F1 scores\", \"F1 Scores In 10 Folds\",\n",
    "#            model_result[\"Training F1 scores\"],\n",
    "#            model_result[\"Validation F1 scores\"])"
   ]
  },
  {
   "cell_type": "code",
   "execution_count": 31,
   "id": "47a496b9",
   "metadata": {},
   "outputs": [
    {
     "name": "stdout",
     "output_type": "stream",
     "text": [
      "              precision    recall  f1-score   support\n",
      "\n",
      "           0       1.00      1.00      1.00      7134\n",
      "           1       1.00      1.00      1.00      5363\n",
      "\n",
      "    accuracy                           1.00     12497\n",
      "   macro avg       1.00      1.00      1.00     12497\n",
      "weighted avg       1.00      1.00      1.00     12497\n",
      "\n",
      "[[7123    2]\n",
      " [  11 5361]]\n"
     ]
    }
   ],
   "source": [
    "predictions = model1.predict(x_test)\n",
    "print(classification_report(predictions, y_test))\n",
    "print(confusion_matrix(y_test, predictions))"
   ]
  },
  {
   "cell_type": "code",
   "execution_count": null,
   "id": "759bb5a8",
   "metadata": {},
   "outputs": [],
   "source": []
  },
  {
   "cell_type": "markdown",
   "id": "7baa5ad8",
   "metadata": {},
   "source": [
    "# Adds On"
   ]
  },
  {
   "cell_type": "markdown",
   "id": "36c793cf",
   "metadata": {},
   "source": [
    "- Training on data with K Nearest Neighbor\n",
    "- Make prediction on test data\n"
   ]
  },
  {
   "cell_type": "code",
   "execution_count": 32,
   "id": "b41be2ab",
   "metadata": {},
   "outputs": [],
   "source": [
    "model2 = KNeighborsClassifier()\n"
   ]
  },
  {
   "cell_type": "code",
   "execution_count": 33,
   "id": "053547b1",
   "metadata": {},
   "outputs": [
    {
     "data": {
      "text/plain": [
       "0.9835160438505242"
      ]
     },
     "execution_count": 33,
     "metadata": {},
     "output_type": "execute_result"
    }
   ],
   "source": [
    "model2.fit(x_train, y_train)\n",
    "model2.score(x_test, y_test)"
   ]
  },
  {
   "cell_type": "markdown",
   "id": "0f96dfd3",
   "metadata": {},
   "source": [
    "# EVALUATION OF KNN"
   ]
  },
  {
   "cell_type": "code",
   "execution_count": 34,
   "id": "49b13280",
   "metadata": {},
   "outputs": [
    {
     "data": {
      "text/plain": [
       "{'Training Accuracy scores': array([0.98397823, 0.9835159 , 0.98364037, 0.98282239, 0.98292908,\n",
       "        0.98289382, 0.98319612, 0.98316055, 0.98356954, 0.98362288]),\n",
       " 'Mean Training Accuracy': 98.33328891761306,\n",
       " 'Training Precision scores': array([0.98509927, 0.98492296, 0.98460713, 0.98385765, 0.98346255,\n",
       "        0.98386032, 0.98363224, 0.9839901 , 0.98460523, 0.98432731]),\n",
       " 'Mean Training Precision': 98.42364756664867,\n",
       " 'Training Recall scores': array([0.97787429, 0.97697288, 0.97758748, 0.97644022, 0.9770958 ,\n",
       "        0.97660411, 0.9775465 , 0.9770958 , 0.97742451, 0.97783423]),\n",
       " 'Mean Training Recall': 97.72475815015274,\n",
       " 'Training F1 scores': array([0.98147349, 0.98093181, 0.98108475, 0.9801349 , 0.98026884,\n",
       "        0.98021879, 0.98057993, 0.98053083, 0.98100173, 0.98107003]),\n",
       " 'Mean Training F1 Score': 98.07295081656156,\n",
       " 'Validation Accuracy scores': array([0.96703473, 0.97151544, 0.96959514, 0.97823652, 0.97599616,\n",
       "        0.97519206, 0.97135083, 0.98015365, 0.96959027, 0.97295134]),\n",
       " 'Mean Validation Accuracy': 97.31616136686864,\n",
       " 'Validation Precision scores': array([0.97678843, 0.97919818, 0.9754902 , 0.97703704, 0.98157895,\n",
       "        0.98009763, 0.97345794, 0.97399267, 0.9747646 , 0.97143917]),\n",
       " 'Mean Validation Precision': 97.63844813728649,\n",
       " 'Validation Recall scores': array([0.94653392, 0.95464602, 0.95390855, 0.97271386, 0.96275811,\n",
       "        0.96238938, 0.96017699, 0.98045723, 0.95462929, 0.96606418]),\n",
       " 'Mean Validation Recall': 96.14277541840355,\n",
       " 'Validation F1 scores': array([0.96142322, 0.96676624, 0.96457867, 0.97487066, 0.97207744,\n",
       "        0.97116279, 0.96677186, 0.97721426, 0.96459187, 0.96874422]),\n",
       " 'Mean Validation F1 Score': 96.88201236999487}"
      ]
     },
     "execution_count": 34,
     "metadata": {},
     "output_type": "execute_result"
    }
   ],
   "source": [
    "# Training With Cross Validation\n",
    "model_results = cross_validation(model2, X, y, 10)\n",
    "model_results"
   ]
  },
  {
   "cell_type": "markdown",
   "id": "12fe32b8",
   "metadata": {},
   "source": [
    "# 1. Accuracy"
   ]
  },
  {
   "cell_type": "code",
   "execution_count": 35,
   "id": "05166228",
   "metadata": {
    "scrolled": true
   },
   "outputs": [],
   "source": [
    "# plot_result(model_name, \"Accuracy\", \"Accuracy In 10 Folds\",\n",
    "#            model_results[\"Training Accuracy scores\"],\n",
    "#            model_results[\"Validation Accuracy scores\"])"
   ]
  },
  {
   "cell_type": "markdown",
   "id": "3b8db9b1",
   "metadata": {},
   "source": [
    "# 2. Precision"
   ]
  },
  {
   "cell_type": "code",
   "execution_count": 36,
   "id": "13931fa6",
   "metadata": {},
   "outputs": [],
   "source": [
    "# plot_result(model_name, \"Precision\", \"Precision Score In 10 Folds\",\n",
    "#            model_results[\"Training Precision scores\"],\n",
    "#            model_results[\"Validation Precision scores\"])"
   ]
  },
  {
   "cell_type": "markdown",
   "id": "bafc3a5c",
   "metadata": {},
   "source": [
    "# 3 Recall"
   ]
  },
  {
   "cell_type": "code",
   "execution_count": 37,
   "id": "2c7e74ba",
   "metadata": {},
   "outputs": [],
   "source": [
    "# plot_result(model_name, \"Recall\", \"Recall In 10 Folds\",\n",
    "#            model_results[\"Training Recall scores\"],\n",
    "#            model_results[\"Validation Recall scores\"])"
   ]
  },
  {
   "cell_type": "markdown",
   "id": "facb5bbc",
   "metadata": {},
   "source": [
    "# 4. F1 Scores"
   ]
  },
  {
   "cell_type": "code",
   "execution_count": 38,
   "id": "f2b5c33d",
   "metadata": {},
   "outputs": [],
   "source": [
    "# model_name = \"K Nearest Neighbors\"\n",
    "# plot_result(model_name, \"F1 scores\", \"F1 Scores In 10 Folds\",\n",
    "#            model_results[\"Training F1 scores\"],\n",
    "#            model_results[\"Validation F1 scores\"])"
   ]
  },
  {
   "cell_type": "code",
   "execution_count": 39,
   "id": "4abfee94",
   "metadata": {},
   "outputs": [],
   "source": [
    "prediction2 = model2.predict(x_test)"
   ]
  },
  {
   "cell_type": "code",
   "execution_count": 40,
   "id": "b937c21b",
   "metadata": {},
   "outputs": [
    {
     "name": "stdout",
     "output_type": "stream",
     "text": [
      "              precision    recall  f1-score   support\n",
      "\n",
      "           0       0.99      0.99      0.99      7125\n",
      "           1       0.98      0.98      0.98      5372\n",
      "\n",
      "    accuracy                           0.98     12497\n",
      "   macro avg       0.98      0.98      0.98     12497\n",
      "weighted avg       0.98      0.98      0.98     12497\n",
      "\n",
      "[[7022  103]\n",
      " [ 103 5269]]\n"
     ]
    }
   ],
   "source": [
    "print(classification_report(prediction2, y_test))\n",
    "print(confusion_matrix(y_test, prediction2))"
   ]
  },
  {
   "cell_type": "markdown",
   "id": "285ccd90",
   "metadata": {},
   "source": [
    "# Neive Bayes"
   ]
  },
  {
   "cell_type": "code",
   "execution_count": 41,
   "id": "d400d7a4",
   "metadata": {
    "scrolled": false
   },
   "outputs": [
    {
     "data": {
      "text/plain": [
       "{'Training Accuracy scores': array([0.43272992, 0.43296109, 0.43425919, 0.78126111, 0.43233872,\n",
       "        0.43208208, 0.43220655, 0.43220655, 0.43238437, 0.43286448]),\n",
       " 'Mean Training Accuracy': 46.75294086634051,\n",
       " 'Training Precision scores': array([0.43299061, 0.43310804, 0.43377845, 0.86171039, 0.43278911,\n",
       "        0.43262246, 0.43269351, 0.43270796, 0.43278829, 0.43308846]),\n",
       " 'Mean Training Precision': 47.582772834242746,\n",
       " 'Training Recall scores': array([0.99217406, 0.99246087, 0.99426371, 0.59079734, 0.9916414 ,\n",
       "        0.99078096, 0.99106777, 0.99131361, 0.99119105, 0.99274798]),\n",
       " 'Mean Training Recall': 95.18438747069004,\n",
       " 'Training F1 scores': array([0.60288058, 0.60304735, 0.60403002, 0.70098933, 0.60258693,\n",
       "        0.6022665 , 0.60238833, 0.60244774, 0.60250296, 0.60308136]),\n",
       " 'Mean Training F1 Score': 61.26221107127653,\n",
       " 'Validation Accuracy scores': array([0.43078893, 0.43350936, 0.43078893, 0.71963514, 0.43446952,\n",
       "        0.434379  , 0.43325864, 0.43421895, 0.43085787, 0.43053777]),\n",
       " 'Mean Validation Accuracy': 46.12444111416342,\n",
       " 'Validation Precision scores': array([0.43184385, 0.43344051, 0.43186583, 0.82476319, 0.43388031,\n",
       "        0.43398651, 0.43330652, 0.43381052, 0.43204118, 0.43166048]),\n",
       " 'Mean Validation Precision': 47.205988932499245,\n",
       " 'Validation Recall scores': array([0.9870944 , 0.99410029, 0.98746313, 0.44948378, 0.99446903,\n",
       "        0.99631268, 0.9929941 , 0.99446903, 0.99077831, 0.98672077]),\n",
       " 'Mean Validation Recall': 93.73885508509525,\n",
       " 'Validation F1 scores': array([0.60083043, 0.60367219, 0.60092   , 0.58186158, 0.60416667,\n",
       "        0.60460953, 0.60333819, 0.604099  , 0.60170251, 0.60058374]),\n",
       " 'Mean Validation F1 Score': 60.05783847518907}"
      ]
     },
     "execution_count": 41,
     "metadata": {},
     "output_type": "execute_result"
    }
   ],
   "source": [
    "# Training With Cross Validation\n",
    "model3 = GaussianNB()\n",
    "model_result3 = cross_validation(model3, X, y, 10)\n",
    "model_result3"
   ]
  },
  {
   "cell_type": "code",
   "execution_count": 42,
   "id": "ef2a746d",
   "metadata": {},
   "outputs": [
    {
     "name": "stdout",
     "output_type": "stream",
     "text": [
      "              precision    recall  f1-score   support\n",
      "\n",
      "           0       0.00      0.38      0.01        66\n",
      "           1       0.99      0.43      0.60     12431\n",
      "\n",
      "    accuracy                           0.43     12497\n",
      "   macro avg       0.50      0.40      0.30     12497\n",
      "weighted avg       0.99      0.43      0.60     12497\n",
      "\n",
      "[[  25 7100]\n",
      " [  41 5331]]\n"
     ]
    }
   ],
   "source": [
    "model3.fit(x_train, y_train)\n",
    "model3.score(x_test, y_test)\n",
    "\n",
    "prediction3 = model3.predict(x_test)\n",
    "print(classification_report(prediction3, y_test))\n",
    "print(confusion_matrix(y_test, prediction3))"
   ]
  },
  {
   "cell_type": "markdown",
   "id": "90ef87a8",
   "metadata": {},
   "source": [
    "# Ada Boost Classifier"
   ]
  },
  {
   "cell_type": "code",
   "execution_count": 43,
   "id": "edc28420",
   "metadata": {},
   "outputs": [
    {
     "data": {
      "text/plain": [
       "{'Training Accuracy scores': array([0.98589871, 0.98282239, 0.98428053, 0.98223558, 0.98198663,\n",
       "        0.98529438, 0.98417412, 0.98275157, 0.98246706, 0.98383626]),\n",
       " 'Mean Training Accuracy': 98.35747234451384,\n",
       " 'Training Precision scores': array([0.98488644, 0.97875817, 0.98043301, 0.97876866, 0.97785676,\n",
       "        0.98402923, 0.98054602, 0.97942067, 0.97901583, 0.98061032]),\n",
       " 'Mean Training Precision': 98.04325122720343,\n",
       " 'Training Recall scores': array([0.98258625, 0.98172581, 0.98340572, 0.98033271, 0.98070147,\n",
       "        0.98205359, 0.98303696, 0.98086536, 0.98062031, 0.98217724]),\n",
       " 'Mean Training Recall': 98.17505416800864,\n",
       " 'Training F1 scores': array([0.983735  , 0.98023974, 0.98191711, 0.97955006, 0.97927705,\n",
       "        0.98304042, 0.98178991, 0.98014248, 0.97981742, 0.98139316]),\n",
       " 'Mean Training F1 Score': 98.1090235169389,\n",
       " 'Validation Accuracy scores': array([0.98223716, 0.97679629, 0.98159706, 0.98639782, 0.98607777,\n",
       "        0.98735595, 0.97903329, 0.98639565, 0.9796735 , 0.98015365]),\n",
       " 'Mean Validation Accuracy': 98.25718132826988,\n",
       " 'Validation Precision scores': array([0.98291868, 0.97344153, 0.97826888, 0.98025594, 0.98129813,\n",
       "        0.98813496, 0.97920535, 0.97470184, 0.97816432, 0.97925157]),\n",
       " 'Mean Validation Precision': 97.95641212971546,\n",
       " 'Validation Recall scores': array([0.97603245, 0.9730826 , 0.97935103, 0.98856932, 0.98672566,\n",
       "        0.98266962, 0.97234513, 0.99446903, 0.974917  , 0.974917  ]),\n",
       " 'Mean Validation Recall': 98.03078847348668,\n",
       " 'Validation F1 scores': array([0.97946346, 0.97326203, 0.97880966, 0.98439508, 0.98400441,\n",
       "        0.98539471, 0.97576318, 0.98448622, 0.97653796, 0.97707948]),\n",
       " 'Mean Validation F1 Score': 97.99196201176214}"
      ]
     },
     "execution_count": 43,
     "metadata": {},
     "output_type": "execute_result"
    }
   ],
   "source": [
    "# Training With Cross Validation\n",
    "model4 = AdaBoostClassifier()\n",
    "model_result4 = cross_validation(model4, X, y, 10)\n",
    "model_result4"
   ]
  },
  {
   "cell_type": "code",
   "execution_count": 44,
   "id": "1d10dc43",
   "metadata": {},
   "outputs": [
    {
     "name": "stdout",
     "output_type": "stream",
     "text": [
      "              precision    recall  f1-score   support\n",
      "\n",
      "           0       0.98      0.99      0.98      7075\n",
      "           1       0.98      0.97      0.98      5422\n",
      "\n",
      "    accuracy                           0.98     12497\n",
      "   macro avg       0.98      0.98      0.98     12497\n",
      "weighted avg       0.98      0.98      0.98     12497\n",
      "\n",
      "[[7022  103]\n",
      " [ 103 5269]]\n"
     ]
    }
   ],
   "source": [
    "model4.fit(x_train, y_train)\n",
    "model4.score(x_test, y_test)\n",
    "\n",
    "prediction4 = model4.predict(x_test)\n",
    "print(classification_report(prediction4, y_test))\n",
    "print(confusion_matrix(y_test, prediction2))"
   ]
  },
  {
   "cell_type": "markdown",
   "id": "ed95b273",
   "metadata": {},
   "source": [
    "# Logistic Regression Classifier"
   ]
  },
  {
   "cell_type": "code",
   "execution_count": 45,
   "id": "6ed866c5",
   "metadata": {
    "scrolled": true
   },
   "outputs": [
    {
     "name": "stderr",
     "output_type": "stream",
     "text": [
      "C:\\ProgramData\\Anaconda3\\lib\\site-packages\\sklearn\\linear_model\\_logistic.py:763: ConvergenceWarning: lbfgs failed to converge (status=1):\n",
      "STOP: TOTAL NO. of ITERATIONS REACHED LIMIT.\n",
      "\n",
      "Increase the number of iterations (max_iter) or scale the data as shown in:\n",
      "    https://scikit-learn.org/stable/modules/preprocessing.html\n",
      "Please also refer to the documentation for alternative solver options:\n",
      "    https://scikit-learn.org/stable/modules/linear_model.html#logistic-regression\n",
      "  n_iter_i = _check_optimize_result(\n",
      "C:\\ProgramData\\Anaconda3\\lib\\site-packages\\sklearn\\linear_model\\_logistic.py:763: ConvergenceWarning: lbfgs failed to converge (status=1):\n",
      "STOP: TOTAL NO. of ITERATIONS REACHED LIMIT.\n",
      "\n",
      "Increase the number of iterations (max_iter) or scale the data as shown in:\n",
      "    https://scikit-learn.org/stable/modules/preprocessing.html\n",
      "Please also refer to the documentation for alternative solver options:\n",
      "    https://scikit-learn.org/stable/modules/linear_model.html#logistic-regression\n",
      "  n_iter_i = _check_optimize_result(\n",
      "C:\\ProgramData\\Anaconda3\\lib\\site-packages\\sklearn\\linear_model\\_logistic.py:763: ConvergenceWarning: lbfgs failed to converge (status=1):\n",
      "STOP: TOTAL NO. of ITERATIONS REACHED LIMIT.\n",
      "\n",
      "Increase the number of iterations (max_iter) or scale the data as shown in:\n",
      "    https://scikit-learn.org/stable/modules/preprocessing.html\n",
      "Please also refer to the documentation for alternative solver options:\n",
      "    https://scikit-learn.org/stable/modules/linear_model.html#logistic-regression\n",
      "  n_iter_i = _check_optimize_result(\n",
      "C:\\ProgramData\\Anaconda3\\lib\\site-packages\\sklearn\\linear_model\\_logistic.py:763: ConvergenceWarning: lbfgs failed to converge (status=1):\n",
      "STOP: TOTAL NO. of ITERATIONS REACHED LIMIT.\n",
      "\n",
      "Increase the number of iterations (max_iter) or scale the data as shown in:\n",
      "    https://scikit-learn.org/stable/modules/preprocessing.html\n",
      "Please also refer to the documentation for alternative solver options:\n",
      "    https://scikit-learn.org/stable/modules/linear_model.html#logistic-regression\n",
      "  n_iter_i = _check_optimize_result(\n"
     ]
    },
    {
     "data": {
      "text/plain": [
       "{'Training Accuracy scores': array([0.78053204, 0.79139697, 0.78716481, 0.79212604, 0.79129028,\n",
       "        0.79657521, 0.78357665, 0.78524815, 0.78590608, 0.78167399]),\n",
       " 'Mean Training Accuracy': 78.75490202360294,\n",
       " 'Training Precision scores': array([0.87266774, 0.8782453 , 0.87287882, 0.87894862, 0.87766053,\n",
       "        0.88126323, 0.87486978, 0.87485558, 0.8754174 , 0.87354481]),\n",
       " 'Mean Training Precision': 87.60351807583679,\n",
       " 'Training Recall scores': array([0.57875113, 0.60292551, 0.59645169, 0.60423666, 0.60317135,\n",
       "        0.61398836, 0.5849791 , 0.58948619, 0.59077314, 0.58106281]),\n",
       " 'Mean Training Recall': 59.45825951161652,\n",
       " 'Training F1 scores': array([0.69594994, 0.71499721, 0.70866295, 0.7161519 , 0.71497608,\n",
       "        0.72373823, 0.7011418 , 0.70436464, 0.70546504, 0.69789873]),\n",
       " 'Mean Training F1 Score': 70.83346523556467,\n",
       " 'Validation Accuracy scores': array([0.84525524, 0.75116019, 0.82845255, 0.73211714, 0.73851816,\n",
       "        0.6909411 , 0.81946223, 0.81978233, 0.80025608, 0.84619078]),\n",
       " 'Mean Validation Accuracy': 78.72135802932053,\n",
       " 'Validation Precision scores': array([0.89967934, 0.8622417 , 0.88317757, 0.84879032, 0.86320755,\n",
       "        0.81215028, 0.88483965, 0.88796477, 0.88118812, 0.89628623]),\n",
       " 'Mean Validation Precision': 87.19525538963676,\n",
       " 'Validation Recall scores': array([0.72418879, 0.50774336, 0.69690265, 0.46570796, 0.47234513,\n",
       "        0.37463127, 0.67146018, 0.66924779, 0.62375507, 0.72998893]),\n",
       " 'Mean Validation Recall': 59.35971144544949,\n",
       " 'Validation F1 scores': array([0.80245148, 0.63912741, 0.77906018, 0.60142857, 0.61058151,\n",
       "        0.51274287, 0.76352201, 0.76324643, 0.73045356, 0.80463509]),\n",
       " 'Mean Validation F1 Score': 70.07249109703622}"
      ]
     },
     "execution_count": 45,
     "metadata": {},
     "output_type": "execute_result"
    }
   ],
   "source": [
    "# Training With Cross Validation\n",
    "model5 = LogisticRegression()\n",
    "model_result5 = cross_validation(model5, X, y, 10)\n",
    "model_result5"
   ]
  },
  {
   "cell_type": "code",
   "execution_count": 46,
   "id": "0bc558ef",
   "metadata": {
    "scrolled": true
   },
   "outputs": [
    {
     "name": "stdout",
     "output_type": "stream",
     "text": [
      "              precision    recall  f1-score   support\n",
      "\n",
      "           0       0.89      0.86      0.87      7372\n",
      "           1       0.81      0.84      0.82      5125\n",
      "\n",
      "    accuracy                           0.85     12497\n",
      "   macro avg       0.85      0.85      0.85     12497\n",
      "weighted avg       0.85      0.85      0.85     12497\n",
      "\n",
      "[[6328  797]\n",
      " [1044 4328]]\n"
     ]
    },
    {
     "name": "stderr",
     "output_type": "stream",
     "text": [
      "C:\\ProgramData\\Anaconda3\\lib\\site-packages\\sklearn\\linear_model\\_logistic.py:763: ConvergenceWarning: lbfgs failed to converge (status=1):\n",
      "STOP: TOTAL NO. of ITERATIONS REACHED LIMIT.\n",
      "\n",
      "Increase the number of iterations (max_iter) or scale the data as shown in:\n",
      "    https://scikit-learn.org/stable/modules/preprocessing.html\n",
      "Please also refer to the documentation for alternative solver options:\n",
      "    https://scikit-learn.org/stable/modules/linear_model.html#logistic-regression\n",
      "  n_iter_i = _check_optimize_result(\n"
     ]
    }
   ],
   "source": [
    "model5.fit(x_train, y_train)\n",
    "model5.score(x_test, y_test)\n",
    "\n",
    "prediction5 = model5.predict(x_test)\n",
    "print(classification_report(prediction5, y_test))\n",
    "print(confusion_matrix(y_test, prediction5))"
   ]
  },
  {
   "cell_type": "markdown",
   "id": "f071e611",
   "metadata": {},
   "source": [
    "# SDDClassifier"
   ]
  },
  {
   "cell_type": "code",
   "execution_count": 47,
   "id": "f2402bf6",
   "metadata": {
    "scrolled": false
   },
   "outputs": [
    {
     "data": {
      "text/plain": [
       "{'Training Accuracy scores': array([0.7368056 , 0.76257202, 0.76081158, 0.70751832, 0.73508073,\n",
       "        0.85690915, 0.79008482, 0.74580792, 0.82989847, 0.73890855]),\n",
       " 'Mean Training Accuracy': 76.64397154689074,\n",
       " 'Training Precision scores': array([0.71370089, 0.85997134, 0.78547975, 0.70717484, 0.70660582,\n",
       "        0.84105408, 0.69688447, 0.7707675 , 0.7930803 , 0.78211675]),\n",
       " 'Mean Training Precision': 76.56835739278193,\n",
       " 'Training Recall scores': array([0.65717447, 0.5410145 , 0.61751209, 0.5565025 , 0.66618864,\n",
       "        0.8264771 , 0.91375072, 0.58965009, 0.82271479, 0.5522596 ]),\n",
       " 'Mean Training Recall': 67.43244490109292,\n",
       " 'Training F1 scores': array([0.68427228, 0.66418511, 0.69144129, 0.62285609, 0.68580226,\n",
       "        0.83370187, 0.79071746, 0.66815238, 0.80762579, 0.64739079]),\n",
       " 'Mean Training F1 Score': 70.96145326925235,\n",
       " 'Validation Accuracy scores': array([0.71195391, 0.81629061, 0.79724756, 0.67898864, 0.76300208,\n",
       "        0.88108195, 0.78953265, 0.77736876, 0.83754802, 0.74247759]),\n",
       " 'Mean Validation Accuracy': 77.95491760115677,\n",
       " 'Validation Precision scores': array([0.69723183, 0.8785092 , 0.80167015, 0.68047035, 0.72488126,\n",
       "        0.85274095, 0.69527537, 0.78457561, 0.80264097, 0.7805499 ]),\n",
       " 'Mean Validation Precision': 76.9854558740891,\n",
       " 'Validation Recall scores': array([0.59439528, 0.66924779, 0.7079646 , 0.49078171, 0.73156342,\n",
       "        0.87758112, 0.9170354 , 0.67146018, 0.82958318, 0.56547399]),\n",
       " 'Mean Validation Recall': 70.55086672999437,\n",
       " 'Validation F1 scores': array([0.64171975, 0.75973211, 0.75190914, 0.57026564, 0.72820701,\n",
       "        0.86498274, 0.79090475, 0.72362408, 0.81588972, 0.65582888]),\n",
       " 'Mean Validation F1 Score': 73.03063808178726}"
      ]
     },
     "execution_count": 47,
     "metadata": {},
     "output_type": "execute_result"
    }
   ],
   "source": [
    "# Training With Cross Validation\n",
    "model6 = SGDClassifier()\n",
    "model_result6 = cross_validation(model6, X, y, 10)\n",
    "model_result6"
   ]
  },
  {
   "cell_type": "code",
   "execution_count": 48,
   "id": "0ea84898",
   "metadata": {},
   "outputs": [
    {
     "name": "stdout",
     "output_type": "stream",
     "text": [
      "              precision    recall  f1-score   support\n",
      "\n",
      "           0       0.90      0.79      0.84      8033\n",
      "           1       0.69      0.83      0.76      4464\n",
      "\n",
      "    accuracy                           0.81     12497\n",
      "   macro avg       0.79      0.81      0.80     12497\n",
      "weighted avg       0.82      0.81      0.81     12497\n",
      "\n",
      "[[7022  103]\n",
      " [ 103 5269]]\n"
     ]
    }
   ],
   "source": [
    "model6.fit(x_train, y_train)\n",
    "model6.score(x_test, y_test)\n",
    "\n",
    "prediction6 = model6.predict(x_test)\n",
    "print(classification_report(prediction6, y_test))\n",
    "print(confusion_matrix(y_test, prediction2))"
   ]
  },
  {
   "cell_type": "markdown",
   "id": "59042ff0",
   "metadata": {},
   "source": [
    "# Support Vector Machine Classifier"
   ]
  },
  {
   "cell_type": "code",
   "execution_count": 49,
   "id": "37468895",
   "metadata": {},
   "outputs": [
    {
     "name": "stdout",
     "output_type": "stream",
     "text": [
      "              precision    recall  f1-score   support\n",
      "\n",
      "           0       0.93      0.76      0.84      8780\n",
      "           1       0.61      0.87      0.72      3717\n",
      "\n",
      "    accuracy                           0.79     12497\n",
      "   macro avg       0.77      0.82      0.78     12497\n",
      "weighted avg       0.84      0.79      0.80     12497\n",
      "\n",
      "[[6659  466]\n",
      " [2121 3251]]\n"
     ]
    }
   ],
   "source": [
    "model7 = SVC()\n",
    "model7.fit(x_train, y_train)\n",
    "model7.score(x_test, y_test)\n",
    "\n",
    "prediction7 = model7.predict(x_test)\n",
    "\n",
    "print(classification_report(prediction7, y_test))\n",
    "print(confusion_matrix(y_test, prediction7))"
   ]
  },
  {
   "cell_type": "markdown",
   "id": "fc6a8da3",
   "metadata": {},
   "source": [
    "# AUC Curves"
   ]
  },
  {
   "cell_type": "code",
   "execution_count": 50,
   "id": "bd482ed8",
   "metadata": {},
   "outputs": [
    {
     "data": {
      "text/plain": [
       "<matplotlib.legend.Legend at 0x1c10ed15f10>"
      ]
     },
     "execution_count": 50,
     "metadata": {},
     "output_type": "execute_result"
    },
    {
     "data": {
      "text/plain": [
       "<Figure size 432x288 with 0 Axes>"
      ]
     },
     "metadata": {},
     "output_type": "display_data"
    },
    {
     "data": {
      "image/png": "[encoded data removed]",
      "text/plain": [
       "<Figure size 720x648 with 1 Axes>"
      ]
     },
     "metadata": {
      "needs_background": "light"
     },
     "output_type": "display_data"
    }
   ],
   "source": [
    "#set up plotting area\n",
    "plt.figure().clf()\n",
    "plt.figure(figsize=(10, 9))\n",
    "#fit Random Forest model and plot ROC curve\n",
    "fpr, tpr, _ = metrics.roc_curve(y_test, prediction)\n",
    "auc = round(metrics.roc_auc_score(y_test, prediction), 4)\n",
    "plt.plot(fpr,tpr,label=\"Random Forest, AUC=\"+str(auc))\n",
    "\n",
    "#fit KNN and plot ROC curve\n",
    "fpr, tpr, _ = metrics.roc_curve(y_test, prediction2)\n",
    "auc = round(metrics.roc_auc_score(y_test, prediction2), 4)\n",
    "plt.plot(fpr,tpr,label=\"KNN, AUC=\"+str(auc))\n",
    "\n",
    "#fit Neive Bayes and plot ROC curve\n",
    "fpr, tpr, _ = metrics.roc_curve(y_test, prediction3)\n",
    "auc = round(metrics.roc_auc_score(y_test, prediction3), 4)\n",
    "plt.plot(fpr,tpr,label=\"Neive Bayes, AUC=\"+str(auc))\n",
    "\n",
    "#fit ADA Boost and plot ROC curve\n",
    "fpr, tpr, _ = metrics.roc_curve(y_test, prediction4)\n",
    "auc = round(metrics.roc_auc_score(y_test, prediction4), 4)\n",
    "plt.plot(fpr,tpr,label=\"Ada Boost, AUC=\"+str(auc))\n",
    "\n",
    "\n",
    "#fit logistic regression model and plot ROC curve\n",
    "fpr, tpr, _ = metrics.roc_curve(y_test, prediction5)\n",
    "auc = round(metrics.roc_auc_score(y_test, prediction5), 4)\n",
    "plt.plot(fpr,tpr,label=\"Logistic Regression, AUC=\"+str(auc))\n",
    "\n",
    "#fit gradient boosted model and plot ROC curve\n",
    "fpr, tpr, _ = metrics.roc_curve(y_test, prediction6)\n",
    "auc = round(metrics.roc_auc_score(y_test, prediction6), 4)\n",
    "plt.plot(fpr,tpr,label=\"Gradient Boosting, AUC=\"+str(auc))\n",
    "\n",
    "#fit SVM model and plot ROC curve\n",
    "fpr, tpr, _ = metrics.roc_curve(y_test, prediction7)\n",
    "auc = round(metrics.roc_auc_score(y_test, prediction7), 4)\n",
    "plt.plot(fpr,tpr,label=\"SVM, AUC=\"+str(auc))\n",
    "\n",
    "#add legend\n",
    "plt.legend()\n"
   ]
  },
  {
   "cell_type": "code",
   "execution_count": 51,
   "id": "8e212525",
   "metadata": {},
   "outputs": [
    {
     "data": {
      "text/plain": [
       "<sklearn.metrics._plot.confusion_matrix.ConfusionMatrixDisplay at 0x1c10d24e430>"
      ]
     },
     "execution_count": 51,
     "metadata": {},
     "output_type": "execute_result"
    },
    {
     "data": {
      "image/png": "[encoded data removed]",
      "text/plain": [
       "<Figure size 432x288 with 2 Axes>"
      ]
     },
     "metadata": {
      "needs_background": "light"
     },
     "output_type": "display_data"
    }
   ],
   "source": [
    "from sklearn.metrics import confusion_matrix, plot_confusion_matrix\n",
    "M = confusion_matrix(predictions, y_test)\n",
    "tn, fp, fn, tp = M.ravel()\n",
    "plot_confusion_matrix(model1, x_train, y_train)"
   ]
  },
  {
   "cell_type": "code",
   "execution_count": null,
   "id": "dd620e29",
   "metadata": {},
   "outputs": [],
   "source": []
  }
 ],
 "metadata": {
  "kernelspec": {
   "display_name": "Python 3 (ipykernel)",
   "language": "python",
   "name": "python3"
  },
  "language_info": {
   "codemirror_mode": {
    "name": "ipython",
    "version": 3
   },
   "file_extension": ".py",
   "mimetype": "text/x-python",
   "name": "python",
   "nbconvert_exporter": "python",
   "pygments_lexer": "ipython3",
   "version": "3.9.7"
  }
 },
 "nbformat": 4,
 "nbformat_minor": 5
}
